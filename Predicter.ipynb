{
  "nbformat": 4,
  "nbformat_minor": 0,
  "metadata": {
    "colab": {
      "name": "groupProject3354.ipynb",
      "provenance": [],
      "collapsed_sections": []
    },
    "kernelspec": {
      "name": "python3",
      "display_name": "Python 3"
    }
  },
  "cells": [
    {
      "cell_type": "markdown",
      "metadata": {
        "id": "zM1KKKTDJKaG"
      },
      "source": [
        "# Group Project :>"
      ]
    },
    {
      "cell_type": "markdown",
      "metadata": {
        "id": "27uzvgQwJR4A"
      },
      "source": [
        "##Install packages"
      ]
    },
    {
      "cell_type": "code",
      "metadata": {
        "id": "NhoOhuK_JNi-"
      },
      "source": [
        "from google.colab import files"
      ],
      "execution_count": null,
      "outputs": []
    },
    {
      "cell_type": "code",
      "metadata": {
        "id": "K5KzvnCsKc8I",
        "colab": {
          "resources": {
            "http://localhost:8080/nbextensions/google.colab/files.js": {
              "data": "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",
              "ok": true,
              "headers": [
                [
                  "content-type",
                  "application/javascript"
                ]
              ],
              "status": 200,
              "status_text": "OK"
            }
          },
          "base_uri": "https://localhost:8080/",
          "height": 410
        },
        "outputId": "aec272ad-c487-4d95-aecf-4ae5cbecc7bb"
      },
      "source": [
        "dataset = files.upload()"
      ],
      "execution_count": null,
      "outputs": [
        {
          "output_type": "display_data",
          "data": {
            "text/html": [
              "\n",
              "     <input type=\"file\" id=\"files-55b9e124-5d08-4bfc-af40-212123f0fff9\" name=\"files[]\" multiple disabled />\n",
              "     <output id=\"result-55b9e124-5d08-4bfc-af40-212123f0fff9\">\n",
              "      Upload widget is only available when the cell has been executed in the\n",
              "      current browser session. Please rerun this cell to enable.\n",
              "      </output>\n",
              "      <script src=\"/nbextensions/google.colab/files.js\"></script> "
            ],
            "text/plain": [
              "<IPython.core.display.HTML object>"
            ]
          },
          "metadata": {
            "tags": []
          }
        },
        {
          "output_type": "stream",
          "text": [
            "Saving dataset_football_cleaned.csv to dataset_football_cleaned (1).csv\n"
          ],
          "name": "stdout"
        },
        {
          "output_type": "error",
          "ename": "KeyboardInterrupt",
          "evalue": "ignored",
          "traceback": [
            "\u001b[0;31m---------------------------------------------------------------------------\u001b[0m",
            "\u001b[0;31mKeyboardInterrupt\u001b[0m                         Traceback (most recent call last)",
            "\u001b[0;32m<ipython-input-74-2424304e7034>\u001b[0m in \u001b[0;36m<module>\u001b[0;34m()\u001b[0m\n\u001b[0;32m----> 1\u001b[0;31m \u001b[0mdataset\u001b[0m \u001b[0;34m=\u001b[0m \u001b[0mfiles\u001b[0m\u001b[0;34m.\u001b[0m\u001b[0mupload\u001b[0m\u001b[0;34m(\u001b[0m\u001b[0;34m)\u001b[0m\u001b[0;34m\u001b[0m\u001b[0;34m\u001b[0m\u001b[0m\n\u001b[0m",
            "\u001b[0;32m/usr/local/lib/python3.6/dist-packages/google/colab/files.py\u001b[0m in \u001b[0;36mupload\u001b[0;34m()\u001b[0m\n\u001b[1;32m     70\u001b[0m     result = _output.eval_js(\n\u001b[1;32m     71\u001b[0m         'google.colab._files._uploadFilesContinue(\"{output_id}\")'.format(\n\u001b[0;32m---> 72\u001b[0;31m             output_id=output_id))\n\u001b[0m\u001b[1;32m     73\u001b[0m     \u001b[0;32mif\u001b[0m \u001b[0mresult\u001b[0m\u001b[0;34m[\u001b[0m\u001b[0;34m'action'\u001b[0m\u001b[0;34m]\u001b[0m \u001b[0;34m!=\u001b[0m \u001b[0;34m'append'\u001b[0m\u001b[0;34m:\u001b[0m\u001b[0;34m\u001b[0m\u001b[0;34m\u001b[0m\u001b[0m\n\u001b[1;32m     74\u001b[0m       \u001b[0;31m# JS side uses a generator of promises to process all of the files- some\u001b[0m\u001b[0;34m\u001b[0m\u001b[0;34m\u001b[0m\u001b[0;34m\u001b[0m\u001b[0m\n",
            "\u001b[0;32m/usr/local/lib/python3.6/dist-packages/google/colab/output/_js.py\u001b[0m in \u001b[0;36meval_js\u001b[0;34m(script, ignore_result)\u001b[0m\n\u001b[1;32m     37\u001b[0m   \u001b[0;32mif\u001b[0m \u001b[0mignore_result\u001b[0m\u001b[0;34m:\u001b[0m\u001b[0;34m\u001b[0m\u001b[0;34m\u001b[0m\u001b[0m\n\u001b[1;32m     38\u001b[0m     \u001b[0;32mreturn\u001b[0m\u001b[0;34m\u001b[0m\u001b[0;34m\u001b[0m\u001b[0m\n\u001b[0;32m---> 39\u001b[0;31m   \u001b[0;32mreturn\u001b[0m \u001b[0m_message\u001b[0m\u001b[0;34m.\u001b[0m\u001b[0mread_reply_from_input\u001b[0m\u001b[0;34m(\u001b[0m\u001b[0mrequest_id\u001b[0m\u001b[0;34m)\u001b[0m\u001b[0;34m\u001b[0m\u001b[0;34m\u001b[0m\u001b[0m\n\u001b[0m\u001b[1;32m     40\u001b[0m \u001b[0;34m\u001b[0m\u001b[0m\n\u001b[1;32m     41\u001b[0m \u001b[0;34m\u001b[0m\u001b[0m\n",
            "\u001b[0;32m/usr/local/lib/python3.6/dist-packages/google/colab/_message.py\u001b[0m in \u001b[0;36mread_reply_from_input\u001b[0;34m(message_id, timeout_sec)\u001b[0m\n\u001b[1;32m     99\u001b[0m     \u001b[0mreply\u001b[0m \u001b[0;34m=\u001b[0m \u001b[0m_read_next_input_message\u001b[0m\u001b[0;34m(\u001b[0m\u001b[0;34m)\u001b[0m\u001b[0;34m\u001b[0m\u001b[0;34m\u001b[0m\u001b[0m\n\u001b[1;32m    100\u001b[0m     \u001b[0;32mif\u001b[0m \u001b[0mreply\u001b[0m \u001b[0;34m==\u001b[0m \u001b[0m_NOT_READY\u001b[0m \u001b[0;32mor\u001b[0m \u001b[0;32mnot\u001b[0m \u001b[0misinstance\u001b[0m\u001b[0;34m(\u001b[0m\u001b[0mreply\u001b[0m\u001b[0;34m,\u001b[0m \u001b[0mdict\u001b[0m\u001b[0;34m)\u001b[0m\u001b[0;34m:\u001b[0m\u001b[0;34m\u001b[0m\u001b[0;34m\u001b[0m\u001b[0m\n\u001b[0;32m--> 101\u001b[0;31m       \u001b[0mtime\u001b[0m\u001b[0;34m.\u001b[0m\u001b[0msleep\u001b[0m\u001b[0;34m(\u001b[0m\u001b[0;36m0.025\u001b[0m\u001b[0;34m)\u001b[0m\u001b[0;34m\u001b[0m\u001b[0;34m\u001b[0m\u001b[0m\n\u001b[0m\u001b[1;32m    102\u001b[0m       \u001b[0;32mcontinue\u001b[0m\u001b[0;34m\u001b[0m\u001b[0;34m\u001b[0m\u001b[0m\n\u001b[1;32m    103\u001b[0m     if (reply.get('type') == 'colab_reply' and\n",
            "\u001b[0;31mKeyboardInterrupt\u001b[0m: "
          ]
        }
      ]
    },
    {
      "cell_type": "markdown",
      "metadata": {
        "id": "TsRLgb--NTJT"
      },
      "source": [
        "# Directory"
      ]
    },
    {
      "cell_type": "code",
      "metadata": {
        "id": "2rqhEmzTMuwo"
      },
      "source": [
        "import pandas as pd\n",
        "import numpy as np\n",
        "import matplotlib.pyplot as plt\n",
        "from sklearn.preprocessing import OneHotEncoder\n",
        "from sklearn.impute import SimpleImputer"
      ],
      "execution_count": null,
      "outputs": []
    },
    {
      "cell_type": "code",
      "metadata": {
        "id": "xPBQxum6Qi5r"
      },
      "source": [
        "from sklearn.pipeline import Pipeline, FeatureUnion\n",
        "from sklearn.preprocessing import StandardScaler\n",
        "from sklearn.base import BaseEstimator,TransformerMixin"
      ],
      "execution_count": null,
      "outputs": []
    },
    {
      "cell_type": "markdown",
      "metadata": {
        "id": "KGdXkxo-Njyc"
      },
      "source": [
        "# Loading Data"
      ]
    },
    {
      "cell_type": "code",
      "metadata": {
        "id": "RCN4E5dTNi2e",
        "colab": {
          "base_uri": "https://localhost:8080/",
          "height": 226
        },
        "outputId": "7ab4cf97-dfc9-4b63-d2f1-ecf72d4b62d5"
      },
      "source": [
        "df = pd.read_csv(\"dataset_football_cleaned.csv\")\n",
        "#preview\n",
        "df.head(5)"
      ],
      "execution_count": null,
      "outputs": [
        {
          "output_type": "execute_result",
          "data": {
            "text/html": [
              "<div>\n",
              "<style scoped>\n",
              "    .dataframe tbody tr th:only-of-type {\n",
              "        vertical-align: middle;\n",
              "    }\n",
              "\n",
              "    .dataframe tbody tr th {\n",
              "        vertical-align: top;\n",
              "    }\n",
              "\n",
              "    .dataframe thead th {\n",
              "        text-align: right;\n",
              "    }\n",
              "</style>\n",
              "<table border=\"1\" class=\"dataframe\">\n",
              "  <thead>\n",
              "    <tr style=\"text-align: right;\">\n",
              "      <th></th>\n",
              "      <th>name</th>\n",
              "      <th>first_name</th>\n",
              "      <th>age</th>\n",
              "      <th>nation</th>\n",
              "      <th>league</th>\n",
              "      <th>team</th>\n",
              "      <th>goals_selection</th>\n",
              "      <th>selections_nation</th>\n",
              "      <th>position</th>\n",
              "      <th>price</th>\n",
              "      <th>end_contract</th>\n",
              "      <th>goal_champ</th>\n",
              "      <th>assist_champ</th>\n",
              "      <th>own_goal_champ</th>\n",
              "      <th>sub_on_champ</th>\n",
              "      <th>sub_out_champ</th>\n",
              "      <th>yellow_card_champ</th>\n",
              "      <th>second_yellow_card_champ</th>\n",
              "      <th>red_card_champ</th>\n",
              "      <th>penalty_goal_champ</th>\n",
              "      <th>conceded_goal_champ</th>\n",
              "      <th>clean_sheet_champ</th>\n",
              "      <th>goal_cup</th>\n",
              "      <th>assist_cup</th>\n",
              "      <th>own_goal_cup</th>\n",
              "      <th>sub_on_cup</th>\n",
              "      <th>sub_out_cup</th>\n",
              "      <th>yellow_card_cup</th>\n",
              "      <th>second_yellow_card_cup</th>\n",
              "      <th>red_card_cup</th>\n",
              "      <th>penalty_goal_cup</th>\n",
              "      <th>conceded_goal_cup</th>\n",
              "      <th>clean_sheet_cup</th>\n",
              "      <th>goal_continent</th>\n",
              "      <th>assist_continent</th>\n",
              "      <th>own_goal_continent</th>\n",
              "      <th>sub_on_continent</th>\n",
              "      <th>sub_out_continent</th>\n",
              "      <th>yellow_card_continent</th>\n",
              "      <th>second_yellow_card_continent</th>\n",
              "      <th>red_card_continent</th>\n",
              "      <th>penalty_goal_continent</th>\n",
              "      <th>conceded_goal_continent</th>\n",
              "      <th>clean_sheet_continent</th>\n",
              "    </tr>\n",
              "  </thead>\n",
              "  <tbody>\n",
              "    <tr>\n",
              "      <th>0</th>\n",
              "      <td>Etheridge</td>\n",
              "      <td>Neil</td>\n",
              "      <td>28</td>\n",
              "      <td>Philippines</td>\n",
              "      <td>PremierLeague</td>\n",
              "      <td>Cardiff</td>\n",
              "      <td>0</td>\n",
              "      <td>60</td>\n",
              "      <td>Goalkeeper</td>\n",
              "      <td>4000000.0</td>\n",
              "      <td>3.0</td>\n",
              "      <td>0.0</td>\n",
              "      <td>0.0</td>\n",
              "      <td>0.0</td>\n",
              "      <td>0.0</td>\n",
              "      <td>1.0</td>\n",
              "      <td>9.0</td>\n",
              "      <td>0.0</td>\n",
              "      <td>0.0</td>\n",
              "      <td>237.0</td>\n",
              "      <td>59.0</td>\n",
              "      <td>0</td>\n",
              "      <td>0.0</td>\n",
              "      <td>0.0</td>\n",
              "      <td>0.0</td>\n",
              "      <td>2.0</td>\n",
              "      <td>1.0</td>\n",
              "      <td>0.0</td>\n",
              "      <td>0.0</td>\n",
              "      <td>22.0</td>\n",
              "      <td>3.0</td>\n",
              "      <td>0</td>\n",
              "      <td>0</td>\n",
              "      <td>0.0</td>\n",
              "      <td>0.0</td>\n",
              "      <td>0.0</td>\n",
              "      <td>0.0</td>\n",
              "      <td>0.0</td>\n",
              "      <td>0.0</td>\n",
              "      <td>2.0</td>\n",
              "      <td>0.0</td>\n",
              "      <td>0.0</td>\n",
              "      <td>0</td>\n",
              "      <td>0</td>\n",
              "    </tr>\n",
              "    <tr>\n",
              "      <th>1</th>\n",
              "      <td>LéoNatel</td>\n",
              "      <td>NaN</td>\n",
              "      <td>21</td>\n",
              "      <td>Brazil</td>\n",
              "      <td>FirstDivision</td>\n",
              "      <td>APOELNicosia</td>\n",
              "      <td>0</td>\n",
              "      <td>0</td>\n",
              "      <td>RightWinger</td>\n",
              "      <td>800000.0</td>\n",
              "      <td>1.0</td>\n",
              "      <td>6.0</td>\n",
              "      <td>0.0</td>\n",
              "      <td>0.0</td>\n",
              "      <td>6.0</td>\n",
              "      <td>7.0</td>\n",
              "      <td>0.0</td>\n",
              "      <td>0.0</td>\n",
              "      <td>0.0</td>\n",
              "      <td>0.0</td>\n",
              "      <td>0.0</td>\n",
              "      <td>0</td>\n",
              "      <td>0.0</td>\n",
              "      <td>0.0</td>\n",
              "      <td>0.0</td>\n",
              "      <td>0.0</td>\n",
              "      <td>0.0</td>\n",
              "      <td>0.0</td>\n",
              "      <td>0.0</td>\n",
              "      <td>0.0</td>\n",
              "      <td>0.0</td>\n",
              "      <td>0</td>\n",
              "      <td>0</td>\n",
              "      <td>0.0</td>\n",
              "      <td>1.0</td>\n",
              "      <td>0.0</td>\n",
              "      <td>1.0</td>\n",
              "      <td>0.0</td>\n",
              "      <td>0.0</td>\n",
              "      <td>0.0</td>\n",
              "      <td>0.0</td>\n",
              "      <td>0.0</td>\n",
              "      <td>0</td>\n",
              "      <td>0</td>\n",
              "    </tr>\n",
              "    <tr>\n",
              "      <th>2</th>\n",
              "      <td>Vidigal</td>\n",
              "      <td>André</td>\n",
              "      <td>20</td>\n",
              "      <td>Portugal</td>\n",
              "      <td>FirstDivision</td>\n",
              "      <td>APOELNicosia</td>\n",
              "      <td>0</td>\n",
              "      <td>1</td>\n",
              "      <td>RightWinger</td>\n",
              "      <td>650000.0</td>\n",
              "      <td>2.0</td>\n",
              "      <td>13.0</td>\n",
              "      <td>4.0</td>\n",
              "      <td>0.0</td>\n",
              "      <td>27.0</td>\n",
              "      <td>11.0</td>\n",
              "      <td>3.0</td>\n",
              "      <td>0.0</td>\n",
              "      <td>0.0</td>\n",
              "      <td>1.0</td>\n",
              "      <td>0.0</td>\n",
              "      <td>0</td>\n",
              "      <td>3.0</td>\n",
              "      <td>1.0</td>\n",
              "      <td>0.0</td>\n",
              "      <td>4.0</td>\n",
              "      <td>1.0</td>\n",
              "      <td>0.0</td>\n",
              "      <td>0.0</td>\n",
              "      <td>0.0</td>\n",
              "      <td>0.0</td>\n",
              "      <td>0</td>\n",
              "      <td>0</td>\n",
              "      <td>0.0</td>\n",
              "      <td>0.0</td>\n",
              "      <td>0.0</td>\n",
              "      <td>0.0</td>\n",
              "      <td>0.0</td>\n",
              "      <td>0.0</td>\n",
              "      <td>0.0</td>\n",
              "      <td>0.0</td>\n",
              "      <td>0.0</td>\n",
              "      <td>0</td>\n",
              "      <td>0</td>\n",
              "    </tr>\n",
              "    <tr>\n",
              "      <th>3</th>\n",
              "      <td>Antoniou</td>\n",
              "      <td>BaiAndrew</td>\n",
              "      <td>21</td>\n",
              "      <td>Australia</td>\n",
              "      <td>FirstDivision</td>\n",
              "      <td>AlkiOroklini</td>\n",
              "      <td>0</td>\n",
              "      <td>0</td>\n",
              "      <td>SecondStriker</td>\n",
              "      <td>50000.0</td>\n",
              "      <td>NaN</td>\n",
              "      <td>0.0</td>\n",
              "      <td>0.0</td>\n",
              "      <td>0.0</td>\n",
              "      <td>1.0</td>\n",
              "      <td>0.0</td>\n",
              "      <td>0.0</td>\n",
              "      <td>0.0</td>\n",
              "      <td>0.0</td>\n",
              "      <td>0.0</td>\n",
              "      <td>0.0</td>\n",
              "      <td>0</td>\n",
              "      <td>0.0</td>\n",
              "      <td>0.0</td>\n",
              "      <td>0.0</td>\n",
              "      <td>0.0</td>\n",
              "      <td>0.0</td>\n",
              "      <td>0.0</td>\n",
              "      <td>0.0</td>\n",
              "      <td>0.0</td>\n",
              "      <td>0.0</td>\n",
              "      <td>0</td>\n",
              "      <td>0</td>\n",
              "      <td>0.0</td>\n",
              "      <td>0.0</td>\n",
              "      <td>0.0</td>\n",
              "      <td>0.0</td>\n",
              "      <td>0.0</td>\n",
              "      <td>0.0</td>\n",
              "      <td>0.0</td>\n",
              "      <td>0.0</td>\n",
              "      <td>0.0</td>\n",
              "      <td>0</td>\n",
              "      <td>0</td>\n",
              "    </tr>\n",
              "    <tr>\n",
              "      <th>4</th>\n",
              "      <td>Tribeau</td>\n",
              "      <td>Yoann</td>\n",
              "      <td>30</td>\n",
              "      <td>France</td>\n",
              "      <td>FirstDivision</td>\n",
              "      <td>AlkiOroklini</td>\n",
              "      <td>0</td>\n",
              "      <td>0</td>\n",
              "      <td>AttackingMidfield</td>\n",
              "      <td>200000.0</td>\n",
              "      <td>NaN</td>\n",
              "      <td>1.0</td>\n",
              "      <td>1.0</td>\n",
              "      <td>0.0</td>\n",
              "      <td>30.0</td>\n",
              "      <td>13.0</td>\n",
              "      <td>3.0</td>\n",
              "      <td>1.0</td>\n",
              "      <td>0.0</td>\n",
              "      <td>0.0</td>\n",
              "      <td>0.0</td>\n",
              "      <td>0</td>\n",
              "      <td>0.0</td>\n",
              "      <td>0.0</td>\n",
              "      <td>0.0</td>\n",
              "      <td>2.0</td>\n",
              "      <td>1.0</td>\n",
              "      <td>0.0</td>\n",
              "      <td>0.0</td>\n",
              "      <td>0.0</td>\n",
              "      <td>0.0</td>\n",
              "      <td>0</td>\n",
              "      <td>0</td>\n",
              "      <td>0.0</td>\n",
              "      <td>0.0</td>\n",
              "      <td>0.0</td>\n",
              "      <td>0.0</td>\n",
              "      <td>0.0</td>\n",
              "      <td>0.0</td>\n",
              "      <td>0.0</td>\n",
              "      <td>0.0</td>\n",
              "      <td>0.0</td>\n",
              "      <td>0</td>\n",
              "      <td>0</td>\n",
              "    </tr>\n",
              "  </tbody>\n",
              "</table>\n",
              "</div>"
            ],
            "text/plain": [
              "        name first_name  ...  conceded_goal_continent clean_sheet_continent\n",
              "0  Etheridge       Neil  ...                        0                     0\n",
              "1   LéoNatel        NaN  ...                        0                     0\n",
              "2    Vidigal      André  ...                        0                     0\n",
              "3   Antoniou  BaiAndrew  ...                        0                     0\n",
              "4    Tribeau      Yoann  ...                        0                     0\n",
              "\n",
              "[5 rows x 44 columns]"
            ]
          },
          "metadata": {
            "tags": []
          },
          "execution_count": 280
        }
      ]
    },
    {
      "cell_type": "code",
      "metadata": {
        "id": "UMnnjaV1Ntir"
      },
      "source": [
        "df = df.iloc[:,2:]"
      ],
      "execution_count": null,
      "outputs": []
    },
    {
      "cell_type": "markdown",
      "metadata": {
        "id": "st2hNsAF_XE1"
      },
      "source": [
        "# Data Preprocessing\n"
      ]
    },
    {
      "cell_type": "code",
      "metadata": {
        "id": "Ed2dQcmbS0eH"
      },
      "source": [
        "#customized transformer\n",
        "class DataSelector(BaseEstimator,TransformerMixin):\n",
        "  def __init__(self,attribute_names, is_num = True):\n",
        "    self.attribute_names = attribute_names;\n",
        "    self.is_num = is_num\n",
        "    self.df = pd.DataFrame()\n",
        "  def fit(self,X,y=None):\n",
        "    return self\n",
        "  def transform(self,X,y=None):\n",
        "    if (self.is_num):\n",
        "      return X[self.attribute_names]\n",
        "    else:\n",
        "      for i in self.attribute_names:\n",
        "        encoded,_ = X[i].factorize()\n",
        "        self.df[i] = encoded\n",
        "      return self.df\n"
      ],
      "execution_count": null,
      "outputs": []
    },
    {
      "cell_type": "code",
      "metadata": {
        "id": "wlNfPZ1uRHgR"
      },
      "source": [
        "cat_attribs = [\"nation\",\"league\",\"team\",\"position\"]\n",
        "num_attribs = (df.drop(cat_attribs, axis=1).columns).tolist()"
      ],
      "execution_count": null,
      "outputs": []
    },
    {
      "cell_type": "code",
      "metadata": {
        "id": "B5r_n9_UR2YZ"
      },
      "source": [
        "name_pipeline = Pipeline([\n",
        "    (\"selector\",DataSelector(cat_attribs,is_num=False)),\n",
        "    (\"imputer\",SimpleImputer(strategy=\"most_frequent\")),    \n",
        "])"
      ],
      "execution_count": null,
      "outputs": []
    },
    {
      "cell_type": "code",
      "metadata": {
        "id": "oqqUYUZtTjkU"
      },
      "source": [
        "num_pipeline = Pipeline([    \n",
        "    (\"selector\",DataSelector(num_attribs,is_num=True)),\n",
        "    (\"imputer\",SimpleImputer(strategy=\"most_frequent\")),          \n",
        "])"
      ],
      "execution_count": null,
      "outputs": []
    },
    {
      "cell_type": "code",
      "metadata": {
        "id": "qv26XOHJUsfk"
      },
      "source": [
        "full_pipeline = FeatureUnion(transformer_list=[\n",
        "    (\"num_pipeline\", num_pipeline),  \n",
        "    (\"name_pipeline\", name_pipeline),\n",
        "])"
      ],
      "execution_count": null,
      "outputs": []
    },
    {
      "cell_type": "code",
      "metadata": {
        "id": "0yzf83qh4hyw"
      },
      "source": [
        "futball_df = pd.DataFrame(full_pipeline.fit_transform(df))\n",
        "futball_df = pd.DataFrame(futball_df)\n",
        "futball_df.columns =  num_attribs + cat_attribs\n",
        "# # split dataset\n",
        "# X = futball_df.drop([\"price\"], axis=1)\n",
        "# Y = pd.DataFrame(futball_df[\"price\"])\n",
        "# #later do\n",
        "# from sklearn.model_selection import train_test_split\n",
        "# X_train, X_test, y_train, y_test = train_test_split(X, Y, test_size=0.33, random_state=42)"
      ],
      "execution_count": null,
      "outputs": []
    },
    {
      "cell_type": "code",
      "metadata": {
        "id": "NNYfBxYE4N7A"
      },
      "source": [
        "#label price in different stratifier\n",
        "def y_price_seperator(y):\n",
        "  y = np.array(y)\n",
        "  price = []\n",
        "  for i in y:\n",
        "    if (i<1000):\n",
        "      price.append(3)\n",
        "    elif (i>=1000 and 10000>i):\n",
        "      price.append(4)\n",
        "    elif (i>=10000 and 100000>i):\n",
        "      price.append(5)\n",
        "    elif (i>=100000 and 1000000>i):\n",
        "      price.append(6)\n",
        "    elif (i>=1000000 and 10000000>i):\n",
        "      price.append(7)\n",
        "    elif (i>=10000000 and 100000000>i):\n",
        "      price.append(8)\n",
        "    else:\n",
        "      price.append(9)\n",
        "  return price"
      ],
      "execution_count": null,
      "outputs": []
    },
    {
      "cell_type": "code",
      "metadata": {
        "id": "mvI-4D-m3s5p"
      },
      "source": [
        "# y_train_price = pd.DataFrame(y_price_seperator(y_train),columns=[\"price\"])\n",
        "# y_test_price = pd.DataFrame(y_price_seperator(y_test), columns=[\"price\"])"
      ],
      "execution_count": null,
      "outputs": []
    },
    {
      "cell_type": "code",
      "metadata": {
        "id": "VvO56Z6j9BCu"
      },
      "source": [
        "# # fit transform\n",
        "# #X_train\n",
        "# X_train_std = StandardScaler()\n",
        "# X_train = X_train_std.fit_transform(X_train)\n",
        "# #X_test\n",
        "# X_test_std = StandardScaler()\n",
        "# X_X_test = X_test_std.fit_transform(X_test)\n",
        "# #Y_train\n",
        "# Y_train_std = StandardScaler()\n",
        "# Y_train = Y_train_std.fit_transform(y_train)\n"
      ],
      "execution_count": null,
      "outputs": []
    },
    {
      "cell_type": "code",
      "metadata": {
        "id": "Eap-tGZYVPHN",
        "colab": {
          "base_uri": "https://localhost:8080/",
          "height": 36
        },
        "outputId": "14343416-44dc-49a0-bb25-70d37c7d32fb"
      },
      "source": [
        "len(futball_df)"
      ],
      "execution_count": null,
      "outputs": [
        {
          "output_type": "execute_result",
          "data": {
            "text/plain": [
              "12711"
            ]
          },
          "metadata": {
            "tags": []
          },
          "execution_count": 290
        }
      ]
    },
    {
      "cell_type": "code",
      "metadata": {
        "id": "RW9O9dIt-bDD"
      },
      "source": [
        "new_futball_df = futball_df\n",
        "# new_futball_df = new_futball_df.assign(price=y_price_seperator(df[\"price\"]))\n",
        "##new method\n",
        "new_futball_df = new_futball_df.assign(price=np.log10(df[\"price\"]))\n"
      ],
      "execution_count": null,
      "outputs": []
    },
    {
      "cell_type": "code",
      "metadata": {
        "id": "ne2QVlkM16Cd",
        "colab": {
          "base_uri": "https://localhost:8080/",
          "height": 226
        },
        "outputId": "9a84327e-36dc-45b2-d179-3ce5868dcae4"
      },
      "source": [
        "new_futball_df.head(5)"
      ],
      "execution_count": null,
      "outputs": [
        {
          "output_type": "execute_result",
          "data": {
            "text/html": [
              "<div>\n",
              "<style scoped>\n",
              "    .dataframe tbody tr th:only-of-type {\n",
              "        vertical-align: middle;\n",
              "    }\n",
              "\n",
              "    .dataframe tbody tr th {\n",
              "        vertical-align: top;\n",
              "    }\n",
              "\n",
              "    .dataframe thead th {\n",
              "        text-align: right;\n",
              "    }\n",
              "</style>\n",
              "<table border=\"1\" class=\"dataframe\">\n",
              "  <thead>\n",
              "    <tr style=\"text-align: right;\">\n",
              "      <th></th>\n",
              "      <th>age</th>\n",
              "      <th>goals_selection</th>\n",
              "      <th>selections_nation</th>\n",
              "      <th>price</th>\n",
              "      <th>end_contract</th>\n",
              "      <th>goal_champ</th>\n",
              "      <th>assist_champ</th>\n",
              "      <th>own_goal_champ</th>\n",
              "      <th>sub_on_champ</th>\n",
              "      <th>sub_out_champ</th>\n",
              "      <th>yellow_card_champ</th>\n",
              "      <th>second_yellow_card_champ</th>\n",
              "      <th>red_card_champ</th>\n",
              "      <th>penalty_goal_champ</th>\n",
              "      <th>conceded_goal_champ</th>\n",
              "      <th>clean_sheet_champ</th>\n",
              "      <th>goal_cup</th>\n",
              "      <th>assist_cup</th>\n",
              "      <th>own_goal_cup</th>\n",
              "      <th>sub_on_cup</th>\n",
              "      <th>sub_out_cup</th>\n",
              "      <th>yellow_card_cup</th>\n",
              "      <th>second_yellow_card_cup</th>\n",
              "      <th>red_card_cup</th>\n",
              "      <th>penalty_goal_cup</th>\n",
              "      <th>conceded_goal_cup</th>\n",
              "      <th>clean_sheet_cup</th>\n",
              "      <th>goal_continent</th>\n",
              "      <th>assist_continent</th>\n",
              "      <th>own_goal_continent</th>\n",
              "      <th>sub_on_continent</th>\n",
              "      <th>sub_out_continent</th>\n",
              "      <th>yellow_card_continent</th>\n",
              "      <th>second_yellow_card_continent</th>\n",
              "      <th>red_card_continent</th>\n",
              "      <th>penalty_goal_continent</th>\n",
              "      <th>conceded_goal_continent</th>\n",
              "      <th>clean_sheet_continent</th>\n",
              "      <th>nation</th>\n",
              "      <th>league</th>\n",
              "      <th>team</th>\n",
              "      <th>position</th>\n",
              "    </tr>\n",
              "  </thead>\n",
              "  <tbody>\n",
              "    <tr>\n",
              "      <th>0</th>\n",
              "      <td>28.0</td>\n",
              "      <td>0.0</td>\n",
              "      <td>60.0</td>\n",
              "      <td>6.602060</td>\n",
              "      <td>3.0</td>\n",
              "      <td>0.0</td>\n",
              "      <td>0.0</td>\n",
              "      <td>0.0</td>\n",
              "      <td>0.0</td>\n",
              "      <td>1.0</td>\n",
              "      <td>9.0</td>\n",
              "      <td>0.0</td>\n",
              "      <td>0.0</td>\n",
              "      <td>237.0</td>\n",
              "      <td>59.0</td>\n",
              "      <td>0.0</td>\n",
              "      <td>0.0</td>\n",
              "      <td>0.0</td>\n",
              "      <td>0.0</td>\n",
              "      <td>2.0</td>\n",
              "      <td>1.0</td>\n",
              "      <td>0.0</td>\n",
              "      <td>0.0</td>\n",
              "      <td>22.0</td>\n",
              "      <td>3.0</td>\n",
              "      <td>0.0</td>\n",
              "      <td>0.0</td>\n",
              "      <td>0.0</td>\n",
              "      <td>0.0</td>\n",
              "      <td>0.0</td>\n",
              "      <td>0.0</td>\n",
              "      <td>0.0</td>\n",
              "      <td>0.0</td>\n",
              "      <td>2.0</td>\n",
              "      <td>0.0</td>\n",
              "      <td>0.0</td>\n",
              "      <td>0.0</td>\n",
              "      <td>0.0</td>\n",
              "      <td>0.0</td>\n",
              "      <td>0.0</td>\n",
              "      <td>0.0</td>\n",
              "      <td>0.0</td>\n",
              "    </tr>\n",
              "    <tr>\n",
              "      <th>1</th>\n",
              "      <td>21.0</td>\n",
              "      <td>0.0</td>\n",
              "      <td>0.0</td>\n",
              "      <td>5.903090</td>\n",
              "      <td>1.0</td>\n",
              "      <td>6.0</td>\n",
              "      <td>0.0</td>\n",
              "      <td>0.0</td>\n",
              "      <td>6.0</td>\n",
              "      <td>7.0</td>\n",
              "      <td>0.0</td>\n",
              "      <td>0.0</td>\n",
              "      <td>0.0</td>\n",
              "      <td>0.0</td>\n",
              "      <td>0.0</td>\n",
              "      <td>0.0</td>\n",
              "      <td>0.0</td>\n",
              "      <td>0.0</td>\n",
              "      <td>0.0</td>\n",
              "      <td>0.0</td>\n",
              "      <td>0.0</td>\n",
              "      <td>0.0</td>\n",
              "      <td>0.0</td>\n",
              "      <td>0.0</td>\n",
              "      <td>0.0</td>\n",
              "      <td>0.0</td>\n",
              "      <td>0.0</td>\n",
              "      <td>0.0</td>\n",
              "      <td>1.0</td>\n",
              "      <td>0.0</td>\n",
              "      <td>1.0</td>\n",
              "      <td>0.0</td>\n",
              "      <td>0.0</td>\n",
              "      <td>0.0</td>\n",
              "      <td>0.0</td>\n",
              "      <td>0.0</td>\n",
              "      <td>0.0</td>\n",
              "      <td>0.0</td>\n",
              "      <td>1.0</td>\n",
              "      <td>1.0</td>\n",
              "      <td>1.0</td>\n",
              "      <td>1.0</td>\n",
              "    </tr>\n",
              "    <tr>\n",
              "      <th>2</th>\n",
              "      <td>20.0</td>\n",
              "      <td>0.0</td>\n",
              "      <td>1.0</td>\n",
              "      <td>5.812913</td>\n",
              "      <td>2.0</td>\n",
              "      <td>13.0</td>\n",
              "      <td>4.0</td>\n",
              "      <td>0.0</td>\n",
              "      <td>27.0</td>\n",
              "      <td>11.0</td>\n",
              "      <td>3.0</td>\n",
              "      <td>0.0</td>\n",
              "      <td>0.0</td>\n",
              "      <td>1.0</td>\n",
              "      <td>0.0</td>\n",
              "      <td>0.0</td>\n",
              "      <td>3.0</td>\n",
              "      <td>1.0</td>\n",
              "      <td>0.0</td>\n",
              "      <td>4.0</td>\n",
              "      <td>1.0</td>\n",
              "      <td>0.0</td>\n",
              "      <td>0.0</td>\n",
              "      <td>0.0</td>\n",
              "      <td>0.0</td>\n",
              "      <td>0.0</td>\n",
              "      <td>0.0</td>\n",
              "      <td>0.0</td>\n",
              "      <td>0.0</td>\n",
              "      <td>0.0</td>\n",
              "      <td>0.0</td>\n",
              "      <td>0.0</td>\n",
              "      <td>0.0</td>\n",
              "      <td>0.0</td>\n",
              "      <td>0.0</td>\n",
              "      <td>0.0</td>\n",
              "      <td>0.0</td>\n",
              "      <td>0.0</td>\n",
              "      <td>2.0</td>\n",
              "      <td>1.0</td>\n",
              "      <td>1.0</td>\n",
              "      <td>1.0</td>\n",
              "    </tr>\n",
              "    <tr>\n",
              "      <th>3</th>\n",
              "      <td>21.0</td>\n",
              "      <td>0.0</td>\n",
              "      <td>0.0</td>\n",
              "      <td>4.698970</td>\n",
              "      <td>1.0</td>\n",
              "      <td>0.0</td>\n",
              "      <td>0.0</td>\n",
              "      <td>0.0</td>\n",
              "      <td>1.0</td>\n",
              "      <td>0.0</td>\n",
              "      <td>0.0</td>\n",
              "      <td>0.0</td>\n",
              "      <td>0.0</td>\n",
              "      <td>0.0</td>\n",
              "      <td>0.0</td>\n",
              "      <td>0.0</td>\n",
              "      <td>0.0</td>\n",
              "      <td>0.0</td>\n",
              "      <td>0.0</td>\n",
              "      <td>0.0</td>\n",
              "      <td>0.0</td>\n",
              "      <td>0.0</td>\n",
              "      <td>0.0</td>\n",
              "      <td>0.0</td>\n",
              "      <td>0.0</td>\n",
              "      <td>0.0</td>\n",
              "      <td>0.0</td>\n",
              "      <td>0.0</td>\n",
              "      <td>0.0</td>\n",
              "      <td>0.0</td>\n",
              "      <td>0.0</td>\n",
              "      <td>0.0</td>\n",
              "      <td>0.0</td>\n",
              "      <td>0.0</td>\n",
              "      <td>0.0</td>\n",
              "      <td>0.0</td>\n",
              "      <td>0.0</td>\n",
              "      <td>0.0</td>\n",
              "      <td>3.0</td>\n",
              "      <td>1.0</td>\n",
              "      <td>2.0</td>\n",
              "      <td>2.0</td>\n",
              "    </tr>\n",
              "    <tr>\n",
              "      <th>4</th>\n",
              "      <td>30.0</td>\n",
              "      <td>0.0</td>\n",
              "      <td>0.0</td>\n",
              "      <td>5.301030</td>\n",
              "      <td>1.0</td>\n",
              "      <td>1.0</td>\n",
              "      <td>1.0</td>\n",
              "      <td>0.0</td>\n",
              "      <td>30.0</td>\n",
              "      <td>13.0</td>\n",
              "      <td>3.0</td>\n",
              "      <td>1.0</td>\n",
              "      <td>0.0</td>\n",
              "      <td>0.0</td>\n",
              "      <td>0.0</td>\n",
              "      <td>0.0</td>\n",
              "      <td>0.0</td>\n",
              "      <td>0.0</td>\n",
              "      <td>0.0</td>\n",
              "      <td>2.0</td>\n",
              "      <td>1.0</td>\n",
              "      <td>0.0</td>\n",
              "      <td>0.0</td>\n",
              "      <td>0.0</td>\n",
              "      <td>0.0</td>\n",
              "      <td>0.0</td>\n",
              "      <td>0.0</td>\n",
              "      <td>0.0</td>\n",
              "      <td>0.0</td>\n",
              "      <td>0.0</td>\n",
              "      <td>0.0</td>\n",
              "      <td>0.0</td>\n",
              "      <td>0.0</td>\n",
              "      <td>0.0</td>\n",
              "      <td>0.0</td>\n",
              "      <td>0.0</td>\n",
              "      <td>0.0</td>\n",
              "      <td>0.0</td>\n",
              "      <td>4.0</td>\n",
              "      <td>1.0</td>\n",
              "      <td>2.0</td>\n",
              "      <td>3.0</td>\n",
              "    </tr>\n",
              "  </tbody>\n",
              "</table>\n",
              "</div>"
            ],
            "text/plain": [
              "    age  goals_selection  selections_nation  ...  league  team  position\n",
              "0  28.0              0.0               60.0  ...     0.0   0.0       0.0\n",
              "1  21.0              0.0                0.0  ...     1.0   1.0       1.0\n",
              "2  20.0              0.0                1.0  ...     1.0   1.0       1.0\n",
              "3  21.0              0.0                0.0  ...     1.0   2.0       2.0\n",
              "4  30.0              0.0                0.0  ...     1.0   2.0       3.0\n",
              "\n",
              "[5 rows x 42 columns]"
            ]
          },
          "metadata": {
            "tags": []
          },
          "execution_count": 292
        }
      ]
    },
    {
      "cell_type": "code",
      "metadata": {
        "id": "mrdOqVqs7sCv"
      },
      "source": [
        "corr_matrix = new_futball_df.corr()"
      ],
      "execution_count": null,
      "outputs": []
    },
    {
      "cell_type": "code",
      "metadata": {
        "id": "rAfr9LjS73Rg",
        "colab": {
          "base_uri": "https://localhost:8080/",
          "height": 831
        },
        "outputId": "ad713739-9f91-4e78-b08c-dd6e379631ba"
      },
      "source": [
        "corr_matrix[\"price\"].sort_values(ascending=False)"
      ],
      "execution_count": null,
      "outputs": [
        {
          "output_type": "execute_result",
          "data": {
            "text/plain": [
              "price                           1.000000\n",
              "assist_champ                    0.476510\n",
              "end_contract                    0.462002\n",
              "goal_champ                      0.444534\n",
              "sub_out_champ                   0.442418\n",
              "yellow_card_champ               0.418235\n",
              "sub_on_continent                0.400937\n",
              "sub_on_champ                    0.394261\n",
              "sub_out_continent               0.392811\n",
              "assist_continent                0.367448\n",
              "yellow_card_continent           0.352680\n",
              "assist_cup                      0.324893\n",
              "goal_continent                  0.323820\n",
              "selections_nation               0.322210\n",
              "goal_cup                        0.316679\n",
              "sub_out_cup                     0.303017\n",
              "sub_on_cup                      0.298990\n",
              "yellow_card_cup                 0.260518\n",
              "goals_selection                 0.254283\n",
              "red_card_champ                  0.226629\n",
              "second_yellow_card_champ        0.226347\n",
              "penalty_goal_continent          0.175267\n",
              "own_goal_champ                  0.124985\n",
              "red_card_continent              0.122827\n",
              "second_yellow_card_continent    0.117857\n",
              "age                             0.098094\n",
              "penalty_goal_cup                0.092115\n",
              "conceded_goal_champ             0.087684\n",
              "penalty_goal_champ              0.079921\n",
              "second_yellow_card_cup          0.079573\n",
              "own_goal_continent              0.067771\n",
              "red_card_cup                    0.046471\n",
              "own_goal_cup                    0.005499\n",
              "position                       -0.004764\n",
              "league                         -0.206357\n",
              "team                           -0.324174\n",
              "nation                         -0.356689\n",
              "clean_sheet_champ                    NaN\n",
              "conceded_goal_cup                    NaN\n",
              "clean_sheet_cup                      NaN\n",
              "conceded_goal_continent              NaN\n",
              "clean_sheet_continent                NaN\n",
              "Name: price, dtype: float64"
            ]
          },
          "metadata": {
            "tags": []
          },
          "execution_count": 295
        }
      ]
    },
    {
      "cell_type": "code",
      "metadata": {
        "id": "IRmJcT8M9Av6"
      },
      "source": [
        "###Help design parameter, say df[\"new column\"] = df[]/df[]\n",
        "\n",
        "#drop the NaN\n",
        "drop_list = [\"clean_sheet_champ\",\"conceded_goal_cup\",\"clean_sheet_cup\",\"conceded_goal_continent\",\"clean_sheet_continent\"]\n",
        "new_futball_df = new_futball_df.drop(drop_list,axis=1)"
      ],
      "execution_count": null,
      "outputs": []
    },
    {
      "cell_type": "markdown",
      "metadata": {
        "id": "ynW2-Ei2sPVX"
      },
      "source": [
        "## PCA -> ML\n",
        "\n"
      ]
    },
    {
      "cell_type": "code",
      "metadata": {
        "id": "6T6nEOIysLQ9"
      },
      "source": [
        "from sklearn.decomposition import PCA\n",
        "import seaborn as sns"
      ],
      "execution_count": null,
      "outputs": []
    },
    {
      "cell_type": "code",
      "metadata": {
        "id": "kdOMf1Z_1r6v"
      },
      "source": [
        "pca = PCA()\n",
        "price = new_futball_df[\"price\"]\n",
        "new_futball_df = new_futball_df.drop([\"price\"],axis=1)\n",
        "pca.fit(new_futball_df)\n",
        "cumsum = np.cumsum(pca.explained_variance_ratio_)"
      ],
      "execution_count": null,
      "outputs": []
    },
    {
      "cell_type": "code",
      "metadata": {
        "id": "cfQShyTV-p9l",
        "colab": {
          "base_uri": "https://localhost:8080/",
          "height": 168
        },
        "outputId": "82ce7b4c-0914-4735-941c-adc9ef037c58"
      },
      "source": [
        "cumsum"
      ],
      "execution_count": null,
      "outputs": [
        {
          "output_type": "execute_result",
          "data": {
            "text/plain": [
              "array([0.89961328, 0.9574202 , 0.97538886, 0.98945426, 0.99179555,\n",
              "       0.99370162, 0.99549404, 0.9969551 , 0.99787608, 0.99844568,\n",
              "       0.99887561, 0.99912567, 0.99931035, 0.99948971, 0.99961156,\n",
              "       0.99971653, 0.99979685, 0.99983342, 0.99985986, 0.99988432,\n",
              "       0.99990381, 0.9999203 , 0.99993571, 0.99994802, 0.99995813,\n",
              "       0.99996705, 0.9999751 , 0.99998217, 0.99998828, 0.99999325,\n",
              "       0.99999772, 0.99999886, 0.99999944, 0.99999973, 0.99999991,\n",
              "       1.        ])"
            ]
          },
          "metadata": {
            "tags": []
          },
          "execution_count": 299
        }
      ]
    },
    {
      "cell_type": "code",
      "metadata": {
        "id": "3a6XFwOC121-"
      },
      "source": [
        "d = np.argmax(cumsum>=0.99)+1"
      ],
      "execution_count": null,
      "outputs": []
    },
    {
      "cell_type": "code",
      "metadata": {
        "id": "crk2eoFq20Ch",
        "colab": {
          "base_uri": "https://localhost:8080/",
          "height": 268
        },
        "outputId": "71f2422b-3ee5-4751-f5e1-6ef94d1c6881"
      },
      "source": [
        "sns.set()\n",
        "fig = plt.plot()\n",
        "plt.plot(cumsum,\"g\")\n",
        "plt.plot(d,cumsum[d],\"r\",marker=\"o\")\n",
        "plt.show()"
      ],
      "execution_count": null,
      "outputs": [
        {
          "output_type": "display_data",
          "data": {
            "image/png": "[encoded data removed]",
            "text/plain": [
              "<Figure size 432x288 with 1 Axes>"
            ]
          },
          "metadata": {
            "tags": []
          }
        }
      ]
    },
    {
      "cell_type": "code",
      "metadata": {
        "id": "_K6slapc3zLo"
      },
      "source": [
        "pca = PCA(n_components=d)\n",
        "pca.fit(new_futball_df)\n",
        "PCAS = pd.DataFrame(pca.components_,columns=new_futball_df.columns)"
      ],
      "execution_count": null,
      "outputs": []
    },
    {
      "cell_type": "code",
      "metadata": {
        "id": "HCkcKoRK-JJD",
        "colab": {
          "base_uri": "https://localhost:8080/",
          "height": 226
        },
        "outputId": "8f58ac49-3026-44de-d006-59a6d6ebba27"
      },
      "source": [
        "PCAS"
      ],
      "execution_count": null,
      "outputs": [
        {
          "output_type": "execute_result",
          "data": {
            "text/html": [
              "<div>\n",
              "<style scoped>\n",
              "    .dataframe tbody tr th:only-of-type {\n",
              "        vertical-align: middle;\n",
              "    }\n",
              "\n",
              "    .dataframe tbody tr th {\n",
              "        vertical-align: top;\n",
              "    }\n",
              "\n",
              "    .dataframe thead th {\n",
              "        text-align: right;\n",
              "    }\n",
              "</style>\n",
              "<table border=\"1\" class=\"dataframe\">\n",
              "  <thead>\n",
              "    <tr style=\"text-align: right;\">\n",
              "      <th></th>\n",
              "      <th>age</th>\n",
              "      <th>goals_selection</th>\n",
              "      <th>selections_nation</th>\n",
              "      <th>end_contract</th>\n",
              "      <th>goal_champ</th>\n",
              "      <th>assist_champ</th>\n",
              "      <th>own_goal_champ</th>\n",
              "      <th>sub_on_champ</th>\n",
              "      <th>sub_out_champ</th>\n",
              "      <th>yellow_card_champ</th>\n",
              "      <th>second_yellow_card_champ</th>\n",
              "      <th>red_card_champ</th>\n",
              "      <th>penalty_goal_champ</th>\n",
              "      <th>conceded_goal_champ</th>\n",
              "      <th>goal_cup</th>\n",
              "      <th>assist_cup</th>\n",
              "      <th>own_goal_cup</th>\n",
              "      <th>sub_on_cup</th>\n",
              "      <th>sub_out_cup</th>\n",
              "      <th>yellow_card_cup</th>\n",
              "      <th>second_yellow_card_cup</th>\n",
              "      <th>red_card_cup</th>\n",
              "      <th>penalty_goal_cup</th>\n",
              "      <th>goal_continent</th>\n",
              "      <th>assist_continent</th>\n",
              "      <th>own_goal_continent</th>\n",
              "      <th>sub_on_continent</th>\n",
              "      <th>sub_out_continent</th>\n",
              "      <th>yellow_card_continent</th>\n",
              "      <th>second_yellow_card_continent</th>\n",
              "      <th>red_card_continent</th>\n",
              "      <th>penalty_goal_continent</th>\n",
              "      <th>nation</th>\n",
              "      <th>league</th>\n",
              "      <th>team</th>\n",
              "      <th>position</th>\n",
              "    </tr>\n",
              "  </thead>\n",
              "  <tbody>\n",
              "    <tr>\n",
              "      <th>0</th>\n",
              "      <td>0.001150</td>\n",
              "      <td>-0.000490</td>\n",
              "      <td>-0.004319</td>\n",
              "      <td>-0.001063</td>\n",
              "      <td>-0.009893</td>\n",
              "      <td>-0.007840</td>\n",
              "      <td>-0.000087</td>\n",
              "      <td>-0.013373</td>\n",
              "      <td>-0.018520</td>\n",
              "      <td>-0.010985</td>\n",
              "      <td>-0.000282</td>\n",
              "      <td>-0.000262</td>\n",
              "      <td>-0.029388</td>\n",
              "      <td>-0.008046</td>\n",
              "      <td>-0.000669</td>\n",
              "      <td>-0.000480</td>\n",
              "      <td>-0.000015</td>\n",
              "      <td>-0.000872</td>\n",
              "      <td>-0.000988</td>\n",
              "      <td>-0.000405</td>\n",
              "      <td>-0.000013</td>\n",
              "      <td>-0.001192</td>\n",
              "      <td>-0.000410</td>\n",
              "      <td>-0.000299</td>\n",
              "      <td>-0.000334</td>\n",
              "      <td>-0.000011</td>\n",
              "      <td>-0.000481</td>\n",
              "      <td>-0.000503</td>\n",
              "      <td>-0.000255</td>\n",
              "      <td>-0.000965</td>\n",
              "      <td>-0.000188</td>\n",
              "      <td>-0.000015</td>\n",
              "      <td>0.051656</td>\n",
              "      <td>0.057809</td>\n",
              "      <td>0.996108</td>\n",
              "      <td>0.000560</td>\n",
              "    </tr>\n",
              "    <tr>\n",
              "      <th>1</th>\n",
              "      <td>0.016101</td>\n",
              "      <td>-0.003698</td>\n",
              "      <td>0.008728</td>\n",
              "      <td>-0.000068</td>\n",
              "      <td>-0.070768</td>\n",
              "      <td>-0.056427</td>\n",
              "      <td>0.001169</td>\n",
              "      <td>-0.117661</td>\n",
              "      <td>-0.149879</td>\n",
              "      <td>-0.033190</td>\n",
              "      <td>-0.001939</td>\n",
              "      <td>0.001260</td>\n",
              "      <td>0.941541</td>\n",
              "      <td>0.249928</td>\n",
              "      <td>-0.005248</td>\n",
              "      <td>-0.004136</td>\n",
              "      <td>0.000264</td>\n",
              "      <td>-0.008371</td>\n",
              "      <td>-0.008028</td>\n",
              "      <td>-0.004529</td>\n",
              "      <td>0.000025</td>\n",
              "      <td>0.044358</td>\n",
              "      <td>0.012544</td>\n",
              "      <td>-0.003070</td>\n",
              "      <td>-0.002879</td>\n",
              "      <td>0.000196</td>\n",
              "      <td>-0.004344</td>\n",
              "      <td>-0.007380</td>\n",
              "      <td>-0.003436</td>\n",
              "      <td>0.040381</td>\n",
              "      <td>0.010425</td>\n",
              "      <td>-0.000212</td>\n",
              "      <td>0.005155</td>\n",
              "      <td>0.000466</td>\n",
              "      <td>0.023719</td>\n",
              "      <td>-0.017995</td>\n",
              "    </tr>\n",
              "    <tr>\n",
              "      <th>2</th>\n",
              "      <td>0.057961</td>\n",
              "      <td>0.020824</td>\n",
              "      <td>0.132820</td>\n",
              "      <td>0.002007</td>\n",
              "      <td>0.332137</td>\n",
              "      <td>0.265605</td>\n",
              "      <td>0.001155</td>\n",
              "      <td>0.408202</td>\n",
              "      <td>0.626130</td>\n",
              "      <td>0.276413</td>\n",
              "      <td>0.007407</td>\n",
              "      <td>0.007165</td>\n",
              "      <td>0.188821</td>\n",
              "      <td>0.044184</td>\n",
              "      <td>0.024674</td>\n",
              "      <td>0.019439</td>\n",
              "      <td>-0.000006</td>\n",
              "      <td>0.030158</td>\n",
              "      <td>0.038250</td>\n",
              "      <td>0.016208</td>\n",
              "      <td>0.000424</td>\n",
              "      <td>0.005677</td>\n",
              "      <td>0.003900</td>\n",
              "      <td>0.021576</td>\n",
              "      <td>0.019484</td>\n",
              "      <td>0.000119</td>\n",
              "      <td>0.030275</td>\n",
              "      <td>0.041256</td>\n",
              "      <td>0.017899</td>\n",
              "      <td>0.011032</td>\n",
              "      <td>0.003665</td>\n",
              "      <td>0.001901</td>\n",
              "      <td>-0.337555</td>\n",
              "      <td>0.033110</td>\n",
              "      <td>0.047764</td>\n",
              "      <td>0.001525</td>\n",
              "    </tr>\n",
              "    <tr>\n",
              "      <th>3</th>\n",
              "      <td>0.020523</td>\n",
              "      <td>0.014649</td>\n",
              "      <td>0.106015</td>\n",
              "      <td>0.000126</td>\n",
              "      <td>0.123206</td>\n",
              "      <td>0.097235</td>\n",
              "      <td>0.000436</td>\n",
              "      <td>0.144231</td>\n",
              "      <td>0.228107</td>\n",
              "      <td>0.077879</td>\n",
              "      <td>0.001683</td>\n",
              "      <td>0.001787</td>\n",
              "      <td>0.063667</td>\n",
              "      <td>0.013784</td>\n",
              "      <td>0.004909</td>\n",
              "      <td>0.003765</td>\n",
              "      <td>-0.000113</td>\n",
              "      <td>0.001578</td>\n",
              "      <td>0.003685</td>\n",
              "      <td>-0.000584</td>\n",
              "      <td>-0.000055</td>\n",
              "      <td>-0.007931</td>\n",
              "      <td>-0.001867</td>\n",
              "      <td>0.005416</td>\n",
              "      <td>0.005071</td>\n",
              "      <td>0.000040</td>\n",
              "      <td>0.006969</td>\n",
              "      <td>0.009748</td>\n",
              "      <td>0.003214</td>\n",
              "      <td>0.001759</td>\n",
              "      <td>0.000348</td>\n",
              "      <td>0.000464</td>\n",
              "      <td>0.931942</td>\n",
              "      <td>-0.102356</td>\n",
              "      <td>-0.030920</td>\n",
              "      <td>0.007677</td>\n",
              "    </tr>\n",
              "    <tr>\n",
              "      <th>4</th>\n",
              "      <td>0.002626</td>\n",
              "      <td>0.092503</td>\n",
              "      <td>0.641560</td>\n",
              "      <td>0.006405</td>\n",
              "      <td>0.346947</td>\n",
              "      <td>0.283757</td>\n",
              "      <td>0.000532</td>\n",
              "      <td>-0.527727</td>\n",
              "      <td>-0.163607</td>\n",
              "      <td>0.104752</td>\n",
              "      <td>0.003620</td>\n",
              "      <td>0.002334</td>\n",
              "      <td>-0.062914</td>\n",
              "      <td>0.040551</td>\n",
              "      <td>0.025558</td>\n",
              "      <td>0.023399</td>\n",
              "      <td>0.000198</td>\n",
              "      <td>-0.006298</td>\n",
              "      <td>0.004136</td>\n",
              "      <td>0.014536</td>\n",
              "      <td>0.000585</td>\n",
              "      <td>0.009549</td>\n",
              "      <td>0.009525</td>\n",
              "      <td>0.061352</td>\n",
              "      <td>0.048978</td>\n",
              "      <td>0.000417</td>\n",
              "      <td>0.024191</td>\n",
              "      <td>0.058279</td>\n",
              "      <td>0.037732</td>\n",
              "      <td>0.043321</td>\n",
              "      <td>0.012879</td>\n",
              "      <td>0.006479</td>\n",
              "      <td>-0.056099</td>\n",
              "      <td>-0.195857</td>\n",
              "      <td>0.012471</td>\n",
              "      <td>-0.009071</td>\n",
              "    </tr>\n",
              "  </tbody>\n",
              "</table>\n",
              "</div>"
            ],
            "text/plain": [
              "        age  goals_selection  selections_nation  ...    league      team  position\n",
              "0  0.001150        -0.000490          -0.004319  ...  0.057809  0.996108  0.000560\n",
              "1  0.016101        -0.003698           0.008728  ...  0.000466  0.023719 -0.017995\n",
              "2  0.057961         0.020824           0.132820  ...  0.033110  0.047764  0.001525\n",
              "3  0.020523         0.014649           0.106015  ... -0.102356 -0.030920  0.007677\n",
              "4  0.002626         0.092503           0.641560  ... -0.195857  0.012471 -0.009071\n",
              "\n",
              "[5 rows x 36 columns]"
            ]
          },
          "metadata": {
            "tags": []
          },
          "execution_count": 303
        }
      ]
    },
    {
      "cell_type": "code",
      "metadata": {
        "id": "nF2HoQMo-lbz",
        "colab": {
          "base_uri": "https://localhost:8080/",
          "height": 36
        },
        "outputId": "f5b9d695-e8ed-4e45-fc0a-84e21490a378"
      },
      "source": [
        "#components\n",
        "print(pca.n_components)"
      ],
      "execution_count": null,
      "outputs": [
        {
          "output_type": "stream",
          "text": [
            "5\n"
          ],
          "name": "stdout"
        }
      ]
    },
    {
      "cell_type": "code",
      "metadata": {
        "id": "rpSTtH4X6f2I"
      },
      "source": [
        "#showing matrix of PCA\n",
        "dataPCA = pca.transform(new_futball_df)"
      ],
      "execution_count": null,
      "outputs": []
    },
    {
      "cell_type": "code",
      "metadata": {
        "id": "DOF668DEhyVm"
      },
      "source": [
        "pca_futball_df = pd.DataFrame(dataPCA)"
      ],
      "execution_count": null,
      "outputs": []
    },
    {
      "cell_type": "code",
      "metadata": {
        "id": "jJM5cKtYkDq8",
        "colab": {
          "base_uri": "https://localhost:8080/",
          "height": 36
        },
        "outputId": "68903830-cceb-4e67-cc2b-c8c5945a0f19"
      },
      "source": [
        "len(pca_futball_df)"
      ],
      "execution_count": null,
      "outputs": [
        {
          "output_type": "execute_result",
          "data": {
            "text/plain": [
              "12711"
            ]
          },
          "metadata": {
            "tags": []
          },
          "execution_count": 307
        }
      ]
    },
    {
      "cell_type": "code",
      "metadata": {
        "id": "GlpoAWcAkFKI",
        "colab": {
          "base_uri": "https://localhost:8080/",
          "height": 36
        },
        "outputId": "5696580c-c489-4b6d-89c0-3cb2b46c4d41"
      },
      "source": [
        "len(price)"
      ],
      "execution_count": null,
      "outputs": [
        {
          "output_type": "execute_result",
          "data": {
            "text/plain": [
              "12711"
            ]
          },
          "metadata": {
            "tags": []
          },
          "execution_count": 308
        }
      ]
    },
    {
      "cell_type": "markdown",
      "metadata": {
        "id": "zhsNdrKxfYIF"
      },
      "source": [
        "# split data"
      ]
    },
    {
      "cell_type": "code",
      "metadata": {
        "id": "qQW7RyEEfZiS"
      },
      "source": [
        "from sklearn.model_selection import train_test_split\n",
        "X_train, X_test, y_train, y_test = train_test_split(pca_futball_df, price, test_size=0.33, random_state=42)\n",
        "nonPca_X_train, nonPca_X_test, nonPca_y_train, nonPca_y_test = train_test_split(new_futball_df,price, test_size=0.33, random_state=42)\n",
        "_, _, _, new_y_test_log_10 = train_test_split(pca_futball_df,np.log10(df[\"price\"]), test_size=0.33, random_state=42)\n",
        "\n"
      ],
      "execution_count": null,
      "outputs": []
    },
    {
      "cell_type": "markdown",
      "metadata": {
        "id": "wR1-6juH3I9V"
      },
      "source": [
        "# Indicator"
      ]
    },
    {
      "cell_type": "code",
      "metadata": {
        "id": "FuMIW0dv6xUz"
      },
      "source": [
        "from sklearn.model_selection import KFold\n",
        "from sklearn import linear_model\n",
        "from sklearn.metrics import make_scorer\n",
        "from sklearn.ensemble import BaggingRegressor\n",
        "from sklearn.ensemble import RandomForestRegressor\n",
        "from sklearn import svm\n",
        "from sklearn.metrics import r2_score\n",
        "from sklearn.model_selection import cross_val_score\n",
        "from sklearn.tree import DecisionTreeRegressor\n",
        "from sklearn.metrics import mean_squared_error"
      ],
      "execution_count": null,
      "outputs": []
    },
    {
      "cell_type": "code",
      "metadata": {
        "id": "u-gLPbpckm8j"
      },
      "source": [
        "def all_model(X_train,y_train,X_test,y_test):\n",
        "    scores={}\n",
        "    mse_scores={}\n",
        "    test_error={}\n",
        "    def test_model(models):\n",
        "        cv = KFold(n_splits=5,shuffle=True,random_state=45)\n",
        "        r2 = make_scorer(r2_score)\n",
        "        r2_val_score = cross_val_score(clf, X_train, y_train, cv=cv,scoring=r2)\n",
        "        scores=[r2_val_score.mean()]\n",
        "        mse_scores = cross_val_score(models,X_train,y_train,scoring=\"neg_mean_squared_error\",cv=cv)\n",
        "        mse_scores = np.sqrt(-mse_scores)\n",
        "        mse_scores = [mse_scores.mean()]\n",
        "        clf.fit(X_train,y_train)\n",
        "        y_hat = clf.predict(X_test)\n",
        "        test_error = [mean_squared_error(y_hat,y_test)]\n",
        "        return scores,mse_scores,test_error\n",
        "\n",
        "    clf = linear_model.LinearRegression()\n",
        "    l_list = test_model(clf)\n",
        "    scores[\"Linear\"] =l_list[0]\n",
        "    mse_scores[\"Linear\"] = l_list[1]\n",
        "    test_error[\"Linear\"] = l_list[2]\n",
        "    \n",
        "\n",
        "    clf = linear_model.Ridge()\n",
        "    l_list = test_model(clf)\n",
        "    scores[\"Ridge\"]=l_list[0]\n",
        "    mse_scores[\"Ridge\"] = l_list[1]\n",
        "    test_error[\"Ridge\"] = l_list[2]\n",
        "    \n",
        "    \n",
        "    clf = linear_model.Lasso(alpha=1e-4)\n",
        "    l_list = test_model(clf)\n",
        "    scores[\"Lasso\"]=l_list[0]\n",
        "    mse_scores[\"Lasso\"] = l_list[1]\n",
        "    test_error[\"Lasso\"] = l_list[2]\n",
        "   \n",
        "    \n",
        "    clf = BaggingRegressor()\n",
        "    l_list = test_model(clf)\n",
        "    scores[\"Bagging\"]=l_list[0]\n",
        "    mse_scores[\"Bagging\"] = l_list[1]\n",
        "    test_error[\"Bagging\"] = l_list[2]\n",
        "    \n",
        "    clf = RandomForestRegressor()\n",
        "    l_list = test_model(clf)\n",
        "    scores[\"RandomForest\"]=l_list[0]\n",
        "    mse_scores[\"RandomForest\"] = l_list[1]\n",
        "    test_error[\"RandomForest\"] = l_list[2]\n",
        "   \n",
        "    \n",
        "    clf = svm.SVR()\n",
        "    l_list = test_model(clf)\n",
        "    scores[\"SVM RBF\"]=l_list[0]\n",
        "    mse_scores[\"SVM RBF\"] = l_list[1]\n",
        "    test_error[\"SVM RBF\"] = l_list[2]\n",
        "    \n",
        "    \n",
        "    clf = svm.SVR(kernel=\"linear\")\n",
        "    l_list = test_model(clf)\n",
        "    scores[\"SVM Linear\"]=l_list[0]\n",
        "    mse_scores[\"SVM Linear\"] = l_list[1]\n",
        "    test_error[\"SVM Linear\"] = l_list[2]\n",
        "    return scores,mse_scores,test_error\n"
      ],
      "execution_count": null,
      "outputs": []
    },
    {
      "cell_type": "code",
      "metadata": {
        "id": "GFv9yh9Ls4Jw"
      },
      "source": [
        "def pandas_plot(results,scores):  \n",
        "  results = pd.DataFrame.from_dict(results)\n",
        "  keys = np.array(results)[0].tolist()\n",
        "  values = results.columns\n",
        "  dictionary = dict(zip(keys, values))\n",
        "  a = ([(k,dictionary[k]) for k in sorted(dictionary.keys())])\n",
        "  results = pd.DataFrame([a[i][0] for i in range(0,len(a))],index=[a[i][1] for i in range(0,len(a))])\n",
        "  print(results)\n",
        "  plt.figure(figsize=(30,30))\n",
        "  results.plot(kind=\"bar\",title=scores,)\n",
        "  axes = plt.gca()"
      ],
      "execution_count": null,
      "outputs": []
    },
    {
      "cell_type": "code",
      "metadata": {
        "id": "gBRUAT9lvUeb",
        "colab": {
          "base_uri": "https://localhost:8080/",
          "height": 861
        },
        "outputId": "87198509-76ea-4729-c7fa-b3acbeaf2850"
      },
      "source": [
        "pca_r_2,pca_cross_mse,pca_test_error = all_model(X_train,y_train,X_test,y_test)"
      ],
      "execution_count": null,
      "outputs": [
        {
          "output_type": "stream",
          "text": [
            "/usr/local/lib/python3.6/dist-packages/sklearn/ensemble/forest.py:245: FutureWarning: The default value of n_estimators will change from 10 in version 0.20 to 100 in 0.22.\n",
            "  \"10 in version 0.20 to 100 in 0.22.\", FutureWarning)\n",
            "/usr/local/lib/python3.6/dist-packages/sklearn/ensemble/forest.py:245: FutureWarning: The default value of n_estimators will change from 10 in version 0.20 to 100 in 0.22.\n",
            "  \"10 in version 0.20 to 100 in 0.22.\", FutureWarning)\n",
            "/usr/local/lib/python3.6/dist-packages/sklearn/ensemble/forest.py:245: FutureWarning: The default value of n_estimators will change from 10 in version 0.20 to 100 in 0.22.\n",
            "  \"10 in version 0.20 to 100 in 0.22.\", FutureWarning)\n",
            "/usr/local/lib/python3.6/dist-packages/sklearn/ensemble/forest.py:245: FutureWarning: The default value of n_estimators will change from 10 in version 0.20 to 100 in 0.22.\n",
            "  \"10 in version 0.20 to 100 in 0.22.\", FutureWarning)\n",
            "/usr/local/lib/python3.6/dist-packages/sklearn/ensemble/forest.py:245: FutureWarning: The default value of n_estimators will change from 10 in version 0.20 to 100 in 0.22.\n",
            "  \"10 in version 0.20 to 100 in 0.22.\", FutureWarning)\n",
            "/usr/local/lib/python3.6/dist-packages/sklearn/ensemble/forest.py:245: FutureWarning: The default value of n_estimators will change from 10 in version 0.20 to 100 in 0.22.\n",
            "  \"10 in version 0.20 to 100 in 0.22.\", FutureWarning)\n",
            "/usr/local/lib/python3.6/dist-packages/sklearn/ensemble/forest.py:245: FutureWarning: The default value of n_estimators will change from 10 in version 0.20 to 100 in 0.22.\n",
            "  \"10 in version 0.20 to 100 in 0.22.\", FutureWarning)\n",
            "/usr/local/lib/python3.6/dist-packages/sklearn/ensemble/forest.py:245: FutureWarning: The default value of n_estimators will change from 10 in version 0.20 to 100 in 0.22.\n",
            "  \"10 in version 0.20 to 100 in 0.22.\", FutureWarning)\n",
            "/usr/local/lib/python3.6/dist-packages/sklearn/ensemble/forest.py:245: FutureWarning: The default value of n_estimators will change from 10 in version 0.20 to 100 in 0.22.\n",
            "  \"10 in version 0.20 to 100 in 0.22.\", FutureWarning)\n",
            "/usr/local/lib/python3.6/dist-packages/sklearn/ensemble/forest.py:245: FutureWarning: The default value of n_estimators will change from 10 in version 0.20 to 100 in 0.22.\n",
            "  \"10 in version 0.20 to 100 in 0.22.\", FutureWarning)\n",
            "/usr/local/lib/python3.6/dist-packages/sklearn/ensemble/forest.py:245: FutureWarning: The default value of n_estimators will change from 10 in version 0.20 to 100 in 0.22.\n",
            "  \"10 in version 0.20 to 100 in 0.22.\", FutureWarning)\n",
            "/usr/local/lib/python3.6/dist-packages/sklearn/svm/base.py:193: FutureWarning: The default value of gamma will change from 'auto' to 'scale' in version 0.22 to account better for unscaled features. Set gamma explicitly to 'auto' or 'scale' to avoid this warning.\n",
            "  \"avoid this warning.\", FutureWarning)\n",
            "/usr/local/lib/python3.6/dist-packages/sklearn/svm/base.py:193: FutureWarning: The default value of gamma will change from 'auto' to 'scale' in version 0.22 to account better for unscaled features. Set gamma explicitly to 'auto' or 'scale' to avoid this warning.\n",
            "  \"avoid this warning.\", FutureWarning)\n",
            "/usr/local/lib/python3.6/dist-packages/sklearn/svm/base.py:193: FutureWarning: The default value of gamma will change from 'auto' to 'scale' in version 0.22 to account better for unscaled features. Set gamma explicitly to 'auto' or 'scale' to avoid this warning.\n",
            "  \"avoid this warning.\", FutureWarning)\n",
            "/usr/local/lib/python3.6/dist-packages/sklearn/svm/base.py:193: FutureWarning: The default value of gamma will change from 'auto' to 'scale' in version 0.22 to account better for unscaled features. Set gamma explicitly to 'auto' or 'scale' to avoid this warning.\n",
            "  \"avoid this warning.\", FutureWarning)\n",
            "/usr/local/lib/python3.6/dist-packages/sklearn/svm/base.py:193: FutureWarning: The default value of gamma will change from 'auto' to 'scale' in version 0.22 to account better for unscaled features. Set gamma explicitly to 'auto' or 'scale' to avoid this warning.\n",
            "  \"avoid this warning.\", FutureWarning)\n",
            "/usr/local/lib/python3.6/dist-packages/sklearn/svm/base.py:193: FutureWarning: The default value of gamma will change from 'auto' to 'scale' in version 0.22 to account better for unscaled features. Set gamma explicitly to 'auto' or 'scale' to avoid this warning.\n",
            "  \"avoid this warning.\", FutureWarning)\n",
            "/usr/local/lib/python3.6/dist-packages/sklearn/svm/base.py:193: FutureWarning: The default value of gamma will change from 'auto' to 'scale' in version 0.22 to account better for unscaled features. Set gamma explicitly to 'auto' or 'scale' to avoid this warning.\n",
            "  \"avoid this warning.\", FutureWarning)\n",
            "/usr/local/lib/python3.6/dist-packages/sklearn/svm/base.py:193: FutureWarning: The default value of gamma will change from 'auto' to 'scale' in version 0.22 to account better for unscaled features. Set gamma explicitly to 'auto' or 'scale' to avoid this warning.\n",
            "  \"avoid this warning.\", FutureWarning)\n",
            "/usr/local/lib/python3.6/dist-packages/sklearn/svm/base.py:193: FutureWarning: The default value of gamma will change from 'auto' to 'scale' in version 0.22 to account better for unscaled features. Set gamma explicitly to 'auto' or 'scale' to avoid this warning.\n",
            "  \"avoid this warning.\", FutureWarning)\n",
            "/usr/local/lib/python3.6/dist-packages/sklearn/svm/base.py:193: FutureWarning: The default value of gamma will change from 'auto' to 'scale' in version 0.22 to account better for unscaled features. Set gamma explicitly to 'auto' or 'scale' to avoid this warning.\n",
            "  \"avoid this warning.\", FutureWarning)\n",
            "/usr/local/lib/python3.6/dist-packages/sklearn/svm/base.py:193: FutureWarning: The default value of gamma will change from 'auto' to 'scale' in version 0.22 to account better for unscaled features. Set gamma explicitly to 'auto' or 'scale' to avoid this warning.\n",
            "  \"avoid this warning.\", FutureWarning)\n"
          ],
          "name": "stderr"
        }
      ]
    },
    {
      "cell_type": "code",
      "metadata": {
        "id": "Mpd39llom0jQ",
        "colab": {
          "base_uri": "https://localhost:8080/",
          "height": 861
        },
        "outputId": "b059ec85-a6df-4a0b-94d7-541c3e7f9f5f"
      },
      "source": [
        "#np pca\n",
        "nonPca_r_2,nonPca_cross_mse,nonPca_test_error = all_model(nonPca_X_train, nonPca_y_train,nonPca_X_test, nonPca_y_test)"
      ],
      "execution_count": null,
      "outputs": [
        {
          "output_type": "stream",
          "text": [
            "/usr/local/lib/python3.6/dist-packages/sklearn/ensemble/forest.py:245: FutureWarning: The default value of n_estimators will change from 10 in version 0.20 to 100 in 0.22.\n",
            "  \"10 in version 0.20 to 100 in 0.22.\", FutureWarning)\n",
            "/usr/local/lib/python3.6/dist-packages/sklearn/ensemble/forest.py:245: FutureWarning: The default value of n_estimators will change from 10 in version 0.20 to 100 in 0.22.\n",
            "  \"10 in version 0.20 to 100 in 0.22.\", FutureWarning)\n",
            "/usr/local/lib/python3.6/dist-packages/sklearn/ensemble/forest.py:245: FutureWarning: The default value of n_estimators will change from 10 in version 0.20 to 100 in 0.22.\n",
            "  \"10 in version 0.20 to 100 in 0.22.\", FutureWarning)\n",
            "/usr/local/lib/python3.6/dist-packages/sklearn/ensemble/forest.py:245: FutureWarning: The default value of n_estimators will change from 10 in version 0.20 to 100 in 0.22.\n",
            "  \"10 in version 0.20 to 100 in 0.22.\", FutureWarning)\n",
            "/usr/local/lib/python3.6/dist-packages/sklearn/ensemble/forest.py:245: FutureWarning: The default value of n_estimators will change from 10 in version 0.20 to 100 in 0.22.\n",
            "  \"10 in version 0.20 to 100 in 0.22.\", FutureWarning)\n",
            "/usr/local/lib/python3.6/dist-packages/sklearn/ensemble/forest.py:245: FutureWarning: The default value of n_estimators will change from 10 in version 0.20 to 100 in 0.22.\n",
            "  \"10 in version 0.20 to 100 in 0.22.\", FutureWarning)\n",
            "/usr/local/lib/python3.6/dist-packages/sklearn/ensemble/forest.py:245: FutureWarning: The default value of n_estimators will change from 10 in version 0.20 to 100 in 0.22.\n",
            "  \"10 in version 0.20 to 100 in 0.22.\", FutureWarning)\n",
            "/usr/local/lib/python3.6/dist-packages/sklearn/ensemble/forest.py:245: FutureWarning: The default value of n_estimators will change from 10 in version 0.20 to 100 in 0.22.\n",
            "  \"10 in version 0.20 to 100 in 0.22.\", FutureWarning)\n",
            "/usr/local/lib/python3.6/dist-packages/sklearn/ensemble/forest.py:245: FutureWarning: The default value of n_estimators will change from 10 in version 0.20 to 100 in 0.22.\n",
            "  \"10 in version 0.20 to 100 in 0.22.\", FutureWarning)\n",
            "/usr/local/lib/python3.6/dist-packages/sklearn/ensemble/forest.py:245: FutureWarning: The default value of n_estimators will change from 10 in version 0.20 to 100 in 0.22.\n",
            "  \"10 in version 0.20 to 100 in 0.22.\", FutureWarning)\n",
            "/usr/local/lib/python3.6/dist-packages/sklearn/ensemble/forest.py:245: FutureWarning: The default value of n_estimators will change from 10 in version 0.20 to 100 in 0.22.\n",
            "  \"10 in version 0.20 to 100 in 0.22.\", FutureWarning)\n",
            "/usr/local/lib/python3.6/dist-packages/sklearn/svm/base.py:193: FutureWarning: The default value of gamma will change from 'auto' to 'scale' in version 0.22 to account better for unscaled features. Set gamma explicitly to 'auto' or 'scale' to avoid this warning.\n",
            "  \"avoid this warning.\", FutureWarning)\n",
            "/usr/local/lib/python3.6/dist-packages/sklearn/svm/base.py:193: FutureWarning: The default value of gamma will change from 'auto' to 'scale' in version 0.22 to account better for unscaled features. Set gamma explicitly to 'auto' or 'scale' to avoid this warning.\n",
            "  \"avoid this warning.\", FutureWarning)\n",
            "/usr/local/lib/python3.6/dist-packages/sklearn/svm/base.py:193: FutureWarning: The default value of gamma will change from 'auto' to 'scale' in version 0.22 to account better for unscaled features. Set gamma explicitly to 'auto' or 'scale' to avoid this warning.\n",
            "  \"avoid this warning.\", FutureWarning)\n",
            "/usr/local/lib/python3.6/dist-packages/sklearn/svm/base.py:193: FutureWarning: The default value of gamma will change from 'auto' to 'scale' in version 0.22 to account better for unscaled features. Set gamma explicitly to 'auto' or 'scale' to avoid this warning.\n",
            "  \"avoid this warning.\", FutureWarning)\n",
            "/usr/local/lib/python3.6/dist-packages/sklearn/svm/base.py:193: FutureWarning: The default value of gamma will change from 'auto' to 'scale' in version 0.22 to account better for unscaled features. Set gamma explicitly to 'auto' or 'scale' to avoid this warning.\n",
            "  \"avoid this warning.\", FutureWarning)\n",
            "/usr/local/lib/python3.6/dist-packages/sklearn/svm/base.py:193: FutureWarning: The default value of gamma will change from 'auto' to 'scale' in version 0.22 to account better for unscaled features. Set gamma explicitly to 'auto' or 'scale' to avoid this warning.\n",
            "  \"avoid this warning.\", FutureWarning)\n",
            "/usr/local/lib/python3.6/dist-packages/sklearn/svm/base.py:193: FutureWarning: The default value of gamma will change from 'auto' to 'scale' in version 0.22 to account better for unscaled features. Set gamma explicitly to 'auto' or 'scale' to avoid this warning.\n",
            "  \"avoid this warning.\", FutureWarning)\n",
            "/usr/local/lib/python3.6/dist-packages/sklearn/svm/base.py:193: FutureWarning: The default value of gamma will change from 'auto' to 'scale' in version 0.22 to account better for unscaled features. Set gamma explicitly to 'auto' or 'scale' to avoid this warning.\n",
            "  \"avoid this warning.\", FutureWarning)\n",
            "/usr/local/lib/python3.6/dist-packages/sklearn/svm/base.py:193: FutureWarning: The default value of gamma will change from 'auto' to 'scale' in version 0.22 to account better for unscaled features. Set gamma explicitly to 'auto' or 'scale' to avoid this warning.\n",
            "  \"avoid this warning.\", FutureWarning)\n",
            "/usr/local/lib/python3.6/dist-packages/sklearn/svm/base.py:193: FutureWarning: The default value of gamma will change from 'auto' to 'scale' in version 0.22 to account better for unscaled features. Set gamma explicitly to 'auto' or 'scale' to avoid this warning.\n",
            "  \"avoid this warning.\", FutureWarning)\n",
            "/usr/local/lib/python3.6/dist-packages/sklearn/svm/base.py:193: FutureWarning: The default value of gamma will change from 'auto' to 'scale' in version 0.22 to account better for unscaled features. Set gamma explicitly to 'auto' or 'scale' to avoid this warning.\n",
            "  \"avoid this warning.\", FutureWarning)\n"
          ],
          "name": "stderr"
        }
      ]
    },
    {
      "cell_type": "code",
      "metadata": {
        "id": "KeoFZ3-I1ADH",
        "colab": {
          "base_uri": "https://localhost:8080/",
          "height": 522
        },
        "outputId": "cee1b1ea-2df6-42bd-f390-2180a62d4c72"
      },
      "source": [
        "pandas_plot(pca_r_2,\"R_square\")"
      ],
      "execution_count": null,
      "outputs": [
        {
          "output_type": "stream",
          "text": [
            "                     0\n",
            "SVM Linear    0.435393\n",
            "Lasso         0.458694\n",
            "Linear        0.458696\n",
            "Ridge         0.458697\n",
            "SVM RBF       0.536639\n",
            "Bagging       0.545215\n",
            "RandomForest  0.549521\n"
          ],
          "name": "stdout"
        },
        {
          "output_type": "display_data",
          "data": {
            "text/plain": [
              "<Figure size 2160x2160 with 0 Axes>"
            ]
          },
          "metadata": {
            "tags": []
          }
        },
        {
          "output_type": "display_data",
          "data": {
            "image/png": "[encoded data removed]",
            "text/plain": [
              "<Figure size 432x288 with 1 Axes>"
            ]
          },
          "metadata": {
            "tags": []
          }
        }
      ]
    },
    {
      "cell_type": "code",
      "metadata": {
        "id": "iUyQH3xU1HJZ",
        "colab": {
          "base_uri": "https://localhost:8080/",
          "height": 522
        },
        "outputId": "e3bcb6f8-b1f1-4e5d-8e0d-18865d88eb03"
      },
      "source": [
        "pandas_plot(pca_cross_mse,\"cross_validation\")"
      ],
      "execution_count": null,
      "outputs": [
        {
          "output_type": "stream",
          "text": [
            "                     0\n",
            "RandomForest  0.675349\n",
            "Bagging       0.680737\n",
            "SVM RBF       0.684741\n",
            "Ridge         0.740040\n",
            "Linear        0.740041\n",
            "Lasso         0.740042\n",
            "SVM Linear    0.755986\n"
          ],
          "name": "stdout"
        },
        {
          "output_type": "display_data",
          "data": {
            "text/plain": [
              "<Figure size 2160x2160 with 0 Axes>"
            ]
          },
          "metadata": {
            "tags": []
          }
        },
        {
          "output_type": "display_data",
          "data": {
            "image/png": "[encoded data removed]",
            "text/plain": [
              "<Figure size 432x288 with 1 Axes>"
            ]
          },
          "metadata": {
            "tags": []
          }
        }
      ]
    },
    {
      "cell_type": "code",
      "metadata": {
        "id": "e41-EGwj1I1P",
        "colab": {
          "base_uri": "https://localhost:8080/",
          "height": 522
        },
        "outputId": "cf35098f-a30e-47b3-a3ac-2567deb561df"
      },
      "source": [
        "pandas_plot(pca_test_error,\"test_error\")"
      ],
      "execution_count": null,
      "outputs": [
        {
          "output_type": "stream",
          "text": [
            "                     0\n",
            "SVM RBF       0.443434\n",
            "Bagging       0.455344\n",
            "RandomForest  0.461071\n",
            "Lasso         0.541296\n",
            "Ridge         0.541312\n",
            "Linear        0.541314\n",
            "SVM Linear    0.554887\n"
          ],
          "name": "stdout"
        },
        {
          "output_type": "display_data",
          "data": {
            "text/plain": [
              "<Figure size 2160x2160 with 0 Axes>"
            ]
          },
          "metadata": {
            "tags": []
          }
        },
        {
          "output_type": "display_data",
          "data": {
            "image/png": "[encoded data removed]",
            "text/plain": [
              "<Figure size 432x288 with 1 Axes>"
            ]
          },
          "metadata": {
            "tags": []
          }
        }
      ]
    },
    {
      "cell_type": "code",
      "metadata": {
        "id": "EiZR5iTXtFBO",
        "colab": {
          "base_uri": "https://localhost:8080/",
          "height": 522
        },
        "outputId": "42112a66-009b-415d-e555-e4a1c3ee5019"
      },
      "source": [
        "pandas_plot(nonPca_r_2,\"R_square\")"
      ],
      "execution_count": null,
      "outputs": [
        {
          "output_type": "stream",
          "text": [
            "                     0\n",
            "SVM Linear    0.434049\n",
            "Linear        0.460345\n",
            "Ridge         0.460351\n",
            "Lasso         0.460405\n",
            "SVM RBF       0.545263\n",
            "RandomForest  0.640567\n",
            "Bagging       0.643920\n"
          ],
          "name": "stdout"
        },
        {
          "output_type": "display_data",
          "data": {
            "text/plain": [
              "<Figure size 2160x2160 with 0 Axes>"
            ]
          },
          "metadata": {
            "tags": []
          }
        },
        {
          "output_type": "display_data",
          "data": {
            "image/png": "[encoded data removed]",
            "text/plain": [
              "<Figure size 432x288 with 1 Axes>"
            ]
          },
          "metadata": {
            "tags": []
          }
        }
      ]
    },
    {
      "cell_type": "code",
      "metadata": {
        "id": "7Z8GuCJp0zcl",
        "colab": {
          "base_uri": "https://localhost:8080/",
          "height": 522
        },
        "outputId": "3c41959b-7d9c-40b1-f767-64e2f5232e0c"
      },
      "source": [
        "pandas_plot(nonPca_cross_mse,\"cross validation error\")"
      ],
      "execution_count": null,
      "outputs": [
        {
          "output_type": "stream",
          "text": [
            "                     0\n",
            "Bagging       0.598023\n",
            "RandomForest  0.602881\n",
            "SVM RBF       0.678373\n",
            "Lasso         0.738815\n",
            "Ridge         0.738850\n",
            "Linear        0.738854\n",
            "SVM Linear    0.756911\n"
          ],
          "name": "stdout"
        },
        {
          "output_type": "display_data",
          "data": {
            "text/plain": [
              "<Figure size 2160x2160 with 0 Axes>"
            ]
          },
          "metadata": {
            "tags": []
          }
        },
        {
          "output_type": "display_data",
          "data": {
            "image/png": "[encoded data removed]",
            "text/plain": [
              "<Figure size 432x288 with 1 Axes>"
            ]
          },
          "metadata": {
            "tags": []
          }
        }
      ]
    },
    {
      "cell_type": "code",
      "metadata": {
        "id": "JQxxYkUhnwbj",
        "colab": {
          "base_uri": "https://localhost:8080/",
          "height": 522
        },
        "outputId": "2d823b8a-c2e9-4e94-d531-d91307480b7b"
      },
      "source": [
        "pandas_plot(nonPca_test_error,\"test_error\")"
      ],
      "execution_count": null,
      "outputs": [
        {
          "output_type": "stream",
          "text": [
            "                     0\n",
            "Bagging       0.350418\n",
            "RandomForest  0.355722\n",
            "SVM RBF       0.438975\n",
            "Lasso         0.539847\n",
            "Ridge         0.539877\n",
            "Linear        0.539882\n",
            "SVM Linear    0.552565\n"
          ],
          "name": "stdout"
        },
        {
          "output_type": "display_data",
          "data": {
            "text/plain": [
              "<Figure size 2160x2160 with 0 Axes>"
            ]
          },
          "metadata": {
            "tags": []
          }
        },
        {
          "output_type": "display_data",
          "data": {
            "image/png": "[encoded data removed]",
            "text/plain": [
              "<Figure size 432x288 with 1 Axes>"
            ]
          },
          "metadata": {
            "tags": []
          }
        }
      ]
    },
    {
      "cell_type": "code",
      "metadata": {
        "id": "2_BJSehOCJXJ"
      },
      "source": [
        "## random forest algo should be used"
      ],
      "execution_count": null,
      "outputs": []
    },
    {
      "cell_type": "markdown",
      "metadata": {
        "id": "AdShcHdUF82E"
      },
      "source": [
        "# Identifier"
      ]
    },
    {
      "cell_type": "code",
      "metadata": {
        "id": "z28HUA6iF_DV"
      },
      "source": [
        "def cross_validation(models,X_train,y_train,K):\n",
        "  scores = cross_val_score(models,X_train,y_train,scoring=\"neg_mean_squared_error\",cv=K)\n",
        "  scores = np.sqrt(-scores)\n",
        "  print(\"RMSE Scores: {}\".format(scores))\n",
        "  print(\"Mean: {}\".format(scores.mean()))\n",
        "  print(\"Standard deviation: {}\".format(scores.std()))"
      ],
      "execution_count": null,
      "outputs": []
    },
    {
      "cell_type": "markdown",
      "metadata": {
        "id": "v8NJJWL06u7o"
      },
      "source": [
        "# Linear Regression"
      ]
    },
    {
      "cell_type": "code",
      "metadata": {
        "id": "OTwhHHET6zYv"
      },
      "source": [
        "from sklearn.linear_model import LinearRegression,Lasso,Ridge\n",
        "from sklearn.metrics import mean_squared_error\n",
        "from sklearn.model_selection import cross_val_score,cross_val_predict\n",
        "# X_train, X_test, y_train, y_test"
      ],
      "execution_count": null,
      "outputs": []
    },
    {
      "cell_type": "code",
      "metadata": {
        "id": "HhaC0-Z661to"
      },
      "source": [
        "# reg = LinearRegression().fit(X_train, y_train)\n",
        "reg = LinearRegression()"
      ],
      "execution_count": null,
      "outputs": []
    },
    {
      "cell_type": "code",
      "metadata": {
        "id": "yTPBKhpr7IkV"
      },
      "source": [
        "# print(\"reg.score: {}\".format(reg.score))\n",
        "# print(\"reg.coef : {}\".format(reg.coef_) )\n",
        "# print(\"reg.intercept: {}\".format(reg.intercept_))"
      ],
      "execution_count": null,
      "outputs": []
    },
    {
      "cell_type": "code",
      "metadata": {
        "id": "8fOopf9h7cJy",
        "colab": {
          "base_uri": "https://localhost:8080/",
          "height": 92
        },
        "outputId": "03906279-91ae-4c1d-e036-eec99716cb58"
      },
      "source": [
        "# training error\n",
        "cross_validation(reg,X_train,y_train,10)"
      ],
      "execution_count": null,
      "outputs": [
        {
          "output_type": "stream",
          "text": [
            "RMSE Scores: [0.76126774 0.74760043 0.72798869 0.78070829 0.76409876 0.72693402\n",
            " 0.70963589 0.72980659 0.7299819  0.72844845]\n",
            "Mean: 0.7406470753426004\n",
            "Standard deviation: 0.020780973948276698\n"
          ],
          "name": "stdout"
        }
      ]
    },
    {
      "cell_type": "code",
      "metadata": {
        "id": "iuHovs_jGxbM"
      },
      "source": [
        "#test error\n",
        "reg.fit(X_train,y_train)\n",
        "scores = reg.predict(X_test)\n",
        "mse = mean_squared_error(scores,y_test)"
      ],
      "execution_count": null,
      "outputs": []
    },
    {
      "cell_type": "code",
      "metadata": {
        "id": "5MqSR7phFB5l",
        "colab": {
          "base_uri": "https://localhost:8080/",
          "height": 36
        },
        "outputId": "b09ae994-5a3c-44a0-f9af-41d0c4b666b9"
      },
      "source": [
        "print(\"test set Mean Squared error : \" + str(mse))"
      ],
      "execution_count": null,
      "outputs": [
        {
          "output_type": "stream",
          "text": [
            "test set Mean Squared error : 0.5413136481987199\n"
          ],
          "name": "stdout"
        }
      ]
    },
    {
      "cell_type": "markdown",
      "metadata": {
        "id": "uqHjECTF7wgS"
      },
      "source": [
        "# LASSO"
      ]
    },
    {
      "cell_type": "code",
      "metadata": {
        "id": "I3c1ll3y8GEZ",
        "colab": {
          "base_uri": "https://localhost:8080/",
          "height": 92
        },
        "outputId": "b0152f99-fe8b-41f7-8855-1163944df2ca"
      },
      "source": [
        "#training error\n",
        "lasso_reg = Lasso(alpha=0.1)\n",
        "cross_validation(lasso_reg,X_train,y_train_price,10)"
      ],
      "execution_count": null,
      "outputs": [
        {
          "output_type": "stream",
          "text": [
            "RMSE Scores: [0.70840939 0.67335817 0.64876119 0.7120047  0.69185024 0.67369049\n",
            " 0.6485757  0.6714042  0.67471021 0.6515783 ]\n",
            "Mean: 0.6754342592196076\n",
            "Standard deviation: 0.021726248571126733\n"
          ],
          "name": "stdout"
        }
      ]
    },
    {
      "cell_type": "code",
      "metadata": {
        "id": "Hl2dNwMMHTSv"
      },
      "source": [
        "#test error\n",
        "lasso_reg.fit(X_train,y_train_price)\n",
        "lasso_scores = lasso_reg.predict(X_test)\n",
        "lasso_mse = mean_squared_error(lasso_scores,y_test_price)"
      ],
      "execution_count": null,
      "outputs": []
    },
    {
      "cell_type": "code",
      "metadata": {
        "id": "qSNZDtwlHqaI",
        "colab": {
          "base_uri": "https://localhost:8080/",
          "height": 36
        },
        "outputId": "0a329de0-da8b-4465-9a55-d440fb4e687a"
      },
      "source": [
        "lasso_mse"
      ],
      "execution_count": null,
      "outputs": [
        {
          "output_type": "execute_result",
          "data": {
            "text/plain": [
              "0.44184897617292923"
            ]
          },
          "metadata": {
            "tags": []
          },
          "execution_count": 381
        }
      ]
    },
    {
      "cell_type": "code",
      "metadata": {
        "id": "G20hARcHZE_4",
        "colab": {
          "base_uri": "https://localhost:8080/",
          "height": 54
        },
        "outputId": "d27e5e08-98cb-4910-9546-37098f83f780"
      },
      "source": [
        "#gridSearch\n",
        "lasso_reg = Lasso()\n",
        "param_grid = [\n",
        "              {'alpha':[0.1,0.2,0.3,0.4,0.5,0.6,0.7,0.8,0.9,1]},\n",
        "]\n",
        "#cross vaidation\n",
        "lasso_grid_search = GridSearchCV(lasso_reg,param_grid,cv=5,scoring=\"neg_mean_squared_error\")\n",
        "lasso_grid_search.fit(X_train,y_train_price)\n",
        "\n",
        "#best model\n",
        "print(lasso_grid_search.best_params_)\n",
        "#test set\n",
        "lasso_scores = lasso_grid_search.predict(X_test)\n",
        "lasso_mse = mean_squared_error(lasso_scores,y_test_price)\n",
        "print(\"lasso_mse: {}\".format(lasso_mse))"
      ],
      "execution_count": null,
      "outputs": [
        {
          "output_type": "stream",
          "text": [
            "{'alpha': 0.1}\n",
            "lasso_mse: 0.44184897617292923\n"
          ],
          "name": "stdout"
        }
      ]
    },
    {
      "cell_type": "markdown",
      "metadata": {
        "id": "X9MqlswGYUvU"
      },
      "source": [
        "# Ridge Regression"
      ]
    },
    {
      "cell_type": "code",
      "metadata": {
        "id": "J6YbCygrYXL_",
        "colab": {
          "base_uri": "https://localhost:8080/",
          "height": 111
        },
        "outputId": "4c9b0ba8-fe70-4189-9541-485360f58c28"
      },
      "source": [
        "#training error\n",
        "ridge_reg = Ridge(alpha=0.1)\n",
        "cross_validation(ridge_reg,X_train,y_train_price,10)\n",
        "#test error\n",
        "ridge_reg.fit(X_train,y_train_price)\n",
        "ridge_reg = ridge_reg.predict(X_test)\n",
        "ridge_reg_error = mean_squared_error(lasso_scores,y_test_price)\n",
        "print(\"ridge_regression: {}\".format(ridge_reg_error))"
      ],
      "execution_count": null,
      "outputs": [
        {
          "output_type": "stream",
          "text": [
            "RMSE Scores: [0.63886773 0.62739736 0.61093979 0.65518309 0.64124305 0.61005384\n",
            " 0.59553754 0.61246495 0.61261233 0.61132518]\n",
            "Mean: 0.62156248566032\n",
            "Standard deviation: 0.017439748528890783\n",
            "ridge_regression: 0.44184897617292923\n"
          ],
          "name": "stdout"
        }
      ]
    },
    {
      "cell_type": "code",
      "metadata": {
        "id": "plE0yDWAYyhZ",
        "colab": {
          "base_uri": "https://localhost:8080/",
          "height": 54
        },
        "outputId": "e6ce164c-6393-40ed-cf5a-69a0b800b567"
      },
      "source": [
        "#gridSearch\n",
        "ridge_reg = Ridge()\n",
        "param_grid = [\n",
        "              {'alpha':[0.1,0.2,0.3,0.4,0.5,0.6,0.7,0.8,0.9,1]},\n",
        "]\n",
        "#cross vaidation\n",
        "ridge_reg_search = GridSearchCV(ridge_reg,param_grid,cv=5,scoring=\"neg_mean_squared_error\")\n",
        "ridge_reg_search.fit(X_train,y_train_price)\n",
        "\n",
        "#best model\n",
        "print(ridge_reg_search.best_params_)\n",
        "#test set\n",
        "ridge_scores = ridge_reg_search.predict(X_test)\n",
        "ridge_mse = mean_squared_error(ridge_scores,y_test_price)\n",
        "print(\"ridge_mse: {}\".format(ridge_mse))"
      ],
      "execution_count": null,
      "outputs": [
        {
          "output_type": "stream",
          "text": [
            "{'alpha': 1}\n",
            "ridge_mse: 0.3812365062100795\n"
          ],
          "name": "stdout"
        }
      ]
    },
    {
      "cell_type": "markdown",
      "metadata": {
        "id": "SCSsF5wp95Bv"
      },
      "source": [
        "# Random Forest"
      ]
    },
    {
      "cell_type": "code",
      "metadata": {
        "id": "HM0KJquK97Cd"
      },
      "source": [
        "from sklearn.ensemble import RandomForestRegressor\n",
        "from sklearn.metrics import mean_squared_error"
      ],
      "execution_count": null,
      "outputs": []
    },
    {
      "cell_type": "code",
      "metadata": {
        "id": "UFNBiv7BDQ5X"
      },
      "source": [
        "clf = RandomForestRegressor(200)"
      ],
      "execution_count": null,
      "outputs": []
    },
    {
      "cell_type": "code",
      "metadata": {
        "id": "gDE5nmeINfPt"
      },
      "source": [
        "## random forest does a good job :>\n",
        "from sklearn.model_selection import GridSearchCV"
      ],
      "execution_count": null,
      "outputs": []
    },
    {
      "cell_type": "code",
      "metadata": {
        "id": "R2imIedh2waI"
      },
      "source": [
        "def SpecificGrid(dictionary_):\n",
        "  param_grid = [\n",
        "                dictionary_,\n",
        "  ]\n",
        "\n",
        "  forest_reg_grid_version = RandomForestRegressor(random_state=42)\n",
        "  #cross validation + gridSearch\n",
        "  pca_grid_search = GridSearchCV(forest_reg_grid_version,param_grid,cv=5,scoring=\"neg_mean_squared_error\")\n",
        "  pca_grid_search.fit(X_train,y_train)\n",
        "\n",
        "  #best model\n",
        "  print(pca_grid_search.best_params_)\n",
        "  #test\n",
        "  pca_grid_forest_score = pca_grid_search.predict(X_test)\n",
        "  pca_grid_forest_score = mean_squared_error(pca_grid_forest_score,y_test)\n",
        "  print(pca_grid_forest_score)\n",
        "  return pca_grid_search"
      ],
      "execution_count": null,
      "outputs": []
    },
    {
      "cell_type": "code",
      "metadata": {
        "id": "xTWx_9qrDY9B",
        "colab": {
          "base_uri": "https://localhost:8080/",
          "height": 55
        },
        "outputId": "55e5e207-eed5-4c57-ab26-e16ec6be68f6"
      },
      "source": [
        "Search_by_featuress = SpecificGrid({'n_estimators':[150],'max_features':[1,2,3,4,5]})"
      ],
      "execution_count": null,
      "outputs": [
        {
          "output_type": "stream",
          "text": [
            "{'max_features': 4, 'n_estimators': 150}\n",
            "0.14430949884460684\n"
          ],
          "name": "stdout"
        }
      ]
    },
    {
      "cell_type": "code",
      "metadata": {
        "id": "823DyVaGpsAO",
        "colab": {
          "base_uri": "https://localhost:8080/",
          "height": 55
        },
        "outputId": "7be770c6-980a-4aed-d776-0c6675c71256"
      },
      "source": [
        "Search_by_50s = SpecificGrid({'n_estimators':[50,100,150],'max_features':[4]})"
      ],
      "execution_count": null,
      "outputs": [
        {
          "output_type": "stream",
          "text": [
            "{'max_features': 4, 'n_estimators': 150}\n",
            "0.14430949884460684\n"
          ],
          "name": "stdout"
        }
      ]
    },
    {
      "cell_type": "code",
      "metadata": {
        "id": "zBNei9au28We",
        "colab": {
          "base_uri": "https://localhost:8080/",
          "height": 36
        },
        "outputId": "5ed38e94-dca9-453a-a2a5-aea2fc292a6e"
      },
      "source": [
        "Search_by_50s.cv_results_['mean_test_score']"
      ],
      "execution_count": null,
      "outputs": [
        {
          "output_type": "execute_result",
          "data": {
            "text/plain": [
              "array([-0.14493053, -0.1440791 , -0.1439955 ])"
            ]
          },
          "metadata": {
            "tags": []
          },
          "execution_count": 180
        }
      ]
    },
    {
      "cell_type": "code",
      "metadata": {
        "id": "mvtA1owl7BO6",
        "colab": {
          "base_uri": "https://localhost:8080/",
          "height": 36
        },
        "outputId": "6dd5feae-1733-4459-db7a-3a7875ab52ec"
      },
      "source": [
        "Search_by_50s.best_params_"
      ],
      "execution_count": null,
      "outputs": [
        {
          "output_type": "execute_result",
          "data": {
            "text/plain": [
              "{'max_features': 4, 'n_estimators': 150}"
            ]
          },
          "metadata": {
            "tags": []
          },
          "execution_count": 181
        }
      ]
    },
    {
      "cell_type": "code",
      "metadata": {
        "id": "6n_lG0om4nQi",
        "colab": {
          "base_uri": "https://localhost:8080/",
          "height": 55
        },
        "outputId": "caa85eac-0b82-4968-85f3-d4256c2f8513"
      },
      "source": [
        "Search_by_tens = SpecificGrid({'n_estimators':[150,160,170,180,190,200],'max_features':[4]})"
      ],
      "execution_count": null,
      "outputs": [
        {
          "output_type": "stream",
          "text": [
            "{'max_features': 4, 'n_estimators': 200}\n",
            "0.1430097965023944\n"
          ],
          "name": "stdout"
        }
      ]
    },
    {
      "cell_type": "code",
      "metadata": {
        "id": "k33X7_xI7K2Q",
        "colab": {
          "base_uri": "https://localhost:8080/",
          "height": 36
        },
        "outputId": "6ae3d942-829d-4b89-b7a5-2569c15df552"
      },
      "source": [
        "Search_by_tens.best_params_"
      ],
      "execution_count": null,
      "outputs": [
        {
          "output_type": "execute_result",
          "data": {
            "text/plain": [
              "{'max_features': 4, 'n_estimators': 200}"
            ]
          },
          "metadata": {
            "tags": []
          },
          "execution_count": 185
        }
      ]
    },
    {
      "cell_type": "code",
      "metadata": {
        "id": "cviQwJnB50eo",
        "colab": {
          "base_uri": "https://localhost:8080/",
          "height": 55
        },
        "outputId": "e5ba4036-f889-4a3f-815c-8f6567372d37"
      },
      "source": [
        "Search_by_tens.cv_results_['mean_test_score']"
      ],
      "execution_count": null,
      "outputs": [
        {
          "output_type": "execute_result",
          "data": {
            "text/plain": [
              "array([-0.14379969, -0.1436734 , -0.14335322, -0.14285743, -0.14277659,\n",
              "       -0.14247319])"
            ]
          },
          "metadata": {
            "tags": []
          },
          "execution_count": 186
        }
      ]
    },
    {
      "cell_type": "code",
      "metadata": {
        "id": "2Dxz9z8t4Ztj",
        "colab": {
          "base_uri": "https://localhost:8080/",
          "height": 55
        },
        "outputId": "436d1524-68ea-4ac4-c17d-9a98a801ab9e"
      },
      "source": [
        "Search_by_ones= SpecificGrid({'n_estimators':[191,192,193,194,195,196,197,198,199],'max_features':[4]})"
      ],
      "execution_count": null,
      "outputs": [
        {
          "output_type": "stream",
          "text": [
            "{'max_features': 4, 'n_estimators': 198}\n",
            "0.14397999639883294\n"
          ],
          "name": "stdout"
        }
      ]
    },
    {
      "cell_type": "code",
      "metadata": {
        "id": "6PszCoA87bnG",
        "colab": {
          "base_uri": "https://localhost:8080/",
          "height": 74
        },
        "outputId": "225d530f-308e-4478-83c4-349d9d9acd3b"
      },
      "source": [
        "print(Search_by_ones.best_params_)\n",
        "print(Search_by_ones.cv_results_['mean_test_score'])"
      ],
      "execution_count": null,
      "outputs": [
        {
          "output_type": "stream",
          "text": [
            "{'max_features': 4, 'n_estimators': 199}\n",
            "[-0.14287385 -0.14291859 -0.1431279  -0.14303189 -0.14300529 -0.14321976\n",
            " -0.14273549 -0.14296113 -0.14265225]\n"
          ],
          "name": "stdout"
        }
      ]
    },
    {
      "cell_type": "code",
      "metadata": {
        "id": "jRZ6phoK_jEO",
        "colab": {
          "base_uri": "https://localhost:8080/",
          "height": 320
        },
        "outputId": "45493e98-8955-41ff-ec5c-e9ed13615ebf"
      },
      "source": [
        "plt.plot([150,160,170,180,190,200],Search_by_tens.cv_results_['mean_test_score'])\n",
        "plt.xlabel(\"max_features\")\n",
        "plt.plot([200],Search_by_tens.cv_results_['mean_test_score'][-1],marker=\"o\")\n",
        "plt.ylabel(\"mean_test_score\")\n",
        "plt.title(\"search by 10\")"
      ],
      "execution_count": null,
      "outputs": [
        {
          "output_type": "execute_result",
          "data": {
            "text/plain": [
              "Text(0.5, 1.0, 'search by 10')"
            ]
          },
          "metadata": {
            "tags": []
          },
          "execution_count": 224
        },
        {
          "output_type": "display_data",
          "data": {
            "image/png": "[encoded data removed]",
            "text/plain": [
              "<Figure size 432x288 with 1 Axes>"
            ]
          },
          "metadata": {
            "tags": []
          }
        }
      ]
    },
    {
      "cell_type": "code",
      "metadata": {
        "id": "VmeyIEbn94E8",
        "colab": {
          "base_uri": "https://localhost:8080/",
          "height": 320
        },
        "outputId": "f9e38df9-491e-408b-a6e4-2807ea31b528"
      },
      "source": [
        "plt.plot([191,192,193,194,195,196,197,198,199],Search_by_ones.cv_results_['mean_test_score'])\n",
        "plt.plot([198],Search_by_ones.cv_results_['mean_test_score'][-2],marker=\"o\")\n",
        "plt.ylabel(\"mean_test_score\")\n",
        "plt.title(\"search from 191-199\")\n",
        "plt.xlabel(\"max_features\")"
      ],
      "execution_count": null,
      "outputs": [
        {
          "output_type": "execute_result",
          "data": {
            "text/plain": [
              "Text(0.5, 0, 'max_features')"
            ]
          },
          "metadata": {
            "tags": []
          },
          "execution_count": 225
        },
        {
          "output_type": "display_data",
          "data": {
            "image/png": "[encoded data removed]",
            "text/plain": [
              "<Figure size 432x288 with 1 Axes>"
            ]
          },
          "metadata": {
            "tags": []
          }
        }
      ]
    },
    {
      "cell_type": "code",
      "metadata": {
        "id": "zcIE19V2DN63"
      },
      "source": [
        "pca_classifier = RandomForestRegressor(n_estimators=1500,max_features=4)\n",
        "pca_classifier.fit(X_train,y_train)\n",
        "# Predicting Test set results\n",
        "pca_y_pred = pca_classifier.predict(X_test)"
      ],
      "execution_count": null,
      "outputs": []
    },
    {
      "cell_type": "code",
      "metadata": {
        "id": "wNVJEYtbg17e",
        "colab": {
          "base_uri": "https://localhost:8080/",
          "height": 36
        },
        "outputId": "812f8689-c316-4ae4-f839-e078db0e805f"
      },
      "source": [
        "####\n",
        "# float point y model\n",
        "counts_on_correctly_predicted = np.abs((pca_y_pred-y_test)/y_test) < 0.08\n",
        "#convert bool -> int\n",
        "counts_on_correctly_predicted = counts_on_correctly_predicted.astype(int)\n",
        "#calculate the accuracy -> number of true/length\n",
        "acc = np.sum(counts_on_correctly_predicted)/(np.shape(counts_on_correctly_predicted)[0])\n",
        "print(acc)"
      ],
      "execution_count": null,
      "outputs": [
        {
          "output_type": "stream",
          "text": [
            "0.8028605482717521\n"
          ],
          "name": "stdout"
        }
      ]
    },
    {
      "cell_type": "code",
      "metadata": {
        "id": "Qz1KHmvmyrMy"
      },
      "source": [
        "feature_importances = pd.DataFrame(pca_classifier.feature_importances_,\n",
        "                                    columns=['importance']).sort_values('importance',                                                                 ascending=False)"
      ],
      "execution_count": null,
      "outputs": []
    },
    {
      "cell_type": "code",
      "metadata": {
        "id": "KzB_-iEY0YXG",
        "colab": {
          "base_uri": "https://localhost:8080/",
          "height": 206
        },
        "outputId": "dd2c7c99-3ab9-46ce-bee3-0806484fb78b"
      },
      "source": [
        "feature_importances"
      ],
      "execution_count": null,
      "outputs": [
        {
          "output_type": "execute_result",
          "data": {
            "text/html": [
              "<div>\n",
              "<style scoped>\n",
              "    .dataframe tbody tr th:only-of-type {\n",
              "        vertical-align: middle;\n",
              "    }\n",
              "\n",
              "    .dataframe tbody tr th {\n",
              "        vertical-align: top;\n",
              "    }\n",
              "\n",
              "    .dataframe thead th {\n",
              "        text-align: right;\n",
              "    }\n",
              "</style>\n",
              "<table border=\"1\" class=\"dataframe\">\n",
              "  <thead>\n",
              "    <tr style=\"text-align: right;\">\n",
              "      <th></th>\n",
              "      <th>importance</th>\n",
              "    </tr>\n",
              "  </thead>\n",
              "  <tbody>\n",
              "    <tr>\n",
              "      <th>0</th>\n",
              "      <td>0.340301</td>\n",
              "    </tr>\n",
              "    <tr>\n",
              "      <th>2</th>\n",
              "      <td>0.339654</td>\n",
              "    </tr>\n",
              "    <tr>\n",
              "      <th>1</th>\n",
              "      <td>0.120303</td>\n",
              "    </tr>\n",
              "    <tr>\n",
              "      <th>4</th>\n",
              "      <td>0.115184</td>\n",
              "    </tr>\n",
              "    <tr>\n",
              "      <th>3</th>\n",
              "      <td>0.084559</td>\n",
              "    </tr>\n",
              "  </tbody>\n",
              "</table>\n",
              "</div>"
            ],
            "text/plain": [
              "   importance\n",
              "0    0.340301\n",
              "2    0.339654\n",
              "1    0.120303\n",
              "4    0.115184\n",
              "3    0.084559"
            ]
          },
          "metadata": {
            "tags": []
          },
          "execution_count": 229
        }
      ]
    },
    {
      "cell_type": "markdown",
      "metadata": {
        "id": "TMnipL4F98zV"
      },
      "source": [
        "# deep Learning"
      ]
    },
    {
      "cell_type": "code",
      "metadata": {
        "id": "mBP8HEid9-Qj"
      },
      "source": [
        "try:\n",
        "  %tensorflow_version 2.x\n",
        "except Exception:\n",
        "  pass\n",
        "import tensorflow as tf\n",
        "from tensorflow.keras.layers import LeakyReLU\n",
        "from sklearn.model_selection import KFold"
      ],
      "execution_count": null,
      "outputs": []
    },
    {
      "cell_type": "code",
      "metadata": {
        "id": "6RyDwaA1-8il",
        "colab": {
          "base_uri": "https://localhost:8080/",
          "height": 36
        },
        "outputId": "035b2fc9-47cf-4504-f3ee-2458f42ff34c"
      },
      "source": [
        "tf.__version__"
      ],
      "execution_count": null,
      "outputs": [
        {
          "output_type": "execute_result",
          "data": {
            "text/plain": [
              "'2.0.0'"
            ]
          },
          "metadata": {
            "tags": []
          },
          "execution_count": 263
        }
      ]
    },
    {
      "cell_type": "code",
      "metadata": {
        "id": "UGkcBP40mM1H"
      },
      "source": [
        "Xstd = StandardScaler()\n",
        "Ystd = StandardScaler()\n",
        "X_std = StandardScaler()\n",
        "Y_std = StandardScaler()\n",
        "X1_train = Xstd.fit_transform(np.array(X_train))\n",
        "y1_train = Ystd.fit_transform(np.array(y_train).reshape(1,-1))\n",
        "X1_test = X_std.fit_transform(np.array(X_test))\n",
        "y1_test = Y_std.fit_transform(np.array(y_test).reshape(1,-1))"
      ],
      "execution_count": null,
      "outputs": []
    },
    {
      "cell_type": "code",
      "metadata": {
        "id": "k354sMIA_zuo"
      },
      "source": [
        "#tmr do\n",
        "\n",
        "def model(size):\n",
        "  \n",
        "  model = tf.keras.Sequential()\n",
        "  model.add(tf.keras.layers.Dense(size*2,activation=\"sigmoid\",input_shape=(size,)))\n",
        "  model.add(tf.keras.layers.Dense(size*5,activation=LeakyReLU(alpha=0.1)))\n",
        "  model.add(tf.keras.layers.Dense(size,activation=\"sigmoid\"))\n",
        "  model.add(tf.keras.layers.Dense(7,activation=\"sigmoid\"))\n",
        "  # model.add(tf.keras.layers.Dropout(0.4))\n",
        "  model.add(tf.keras.layers.Dense(1))\n",
        "  model.compile(optimizer='adam',\n",
        "                loss='sparse_categorical_crossentropy',\n",
        "                metrics=['accuracy'])\n",
        "  return model\n",
        "def cross_validation(model,n_split,X,y,X_,y_):\n",
        "  temp = []\n",
        "  temp2 = []\n",
        "  for train_index,test_index in KFold(n_split).split(X):\n",
        "    x_train,x_test=X[train_index],X[test_index]\n",
        "    y_train,y_test=y[train_index],y[test_index]\n",
        "    history = model.fit(x_train, y_train,\n",
        "                      batch_size=64,\n",
        "                      epochs=20)\n",
        "    results = model.evaluate(x_test,y_test, batch_size=128)\n",
        "    temp.append(results[0])\n",
        "    temp2.append(results[1])\n",
        "  return temp,temp2\n",
        "\n",
        "\n"
      ],
      "execution_count": null,
      "outputs": []
    },
    {
      "cell_type": "code",
      "metadata": {
        "id": "629ibW0OAGfr",
        "colab": {
          "base_uri": "https://localhost:8080/",
          "height": 1000
        },
        "outputId": "8c58d2ae-8179-4b06-8946-c6dc32b815e8"
      },
      "source": [
        "pca = model(np.shape(X_test)[1])\n",
        "pca_error,pca_acc = cross_validation(pca,3,X1_train,y1_train[0],X1_test,y1_test[0])"
      ],
      "execution_count": null,
      "outputs": [
        {
          "output_type": "stream",
          "text": [
            "Train on 5677 samples\n",
            "Epoch 1/20\n",
            "5677/5677 [==============================] - 1s 165us/sample - loss: 0.0000e+00 - accuracy: 1.0000\n",
            "Epoch 2/20\n",
            "5677/5677 [==============================] - 0s 39us/sample - loss: 0.0000e+00 - accuracy: 1.0000\n",
            "Epoch 3/20\n",
            "5677/5677 [==============================] - 0s 36us/sample - loss: 0.0000e+00 - accuracy: 1.0000\n",
            "Epoch 4/20\n",
            "5677/5677 [==============================] - 0s 36us/sample - loss: 0.0000e+00 - accuracy: 1.0000\n",
            "Epoch 5/20\n",
            "5677/5677 [==============================] - 0s 36us/sample - loss: 0.0000e+00 - accuracy: 1.0000\n",
            "Epoch 6/20\n",
            "5677/5677 [==============================] - 0s 38us/sample - loss: 0.0000e+00 - accuracy: 1.0000\n",
            "Epoch 7/20\n",
            "5677/5677 [==============================] - 0s 36us/sample - loss: 0.0000e+00 - accuracy: 1.0000\n",
            "Epoch 8/20\n",
            "5677/5677 [==============================] - 0s 36us/sample - loss: 0.0000e+00 - accuracy: 1.0000\n",
            "Epoch 9/20\n",
            "5677/5677 [==============================] - 0s 35us/sample - loss: 0.0000e+00 - accuracy: 1.0000\n",
            "Epoch 10/20\n",
            "5677/5677 [==============================] - 0s 39us/sample - loss: 0.0000e+00 - accuracy: 1.0000\n",
            "Epoch 11/20\n",
            "5677/5677 [==============================] - 0s 37us/sample - loss: 0.0000e+00 - accuracy: 1.0000\n",
            "Epoch 12/20\n",
            "5677/5677 [==============================] - 0s 36us/sample - loss: 0.0000e+00 - accuracy: 1.0000\n",
            "Epoch 13/20\n",
            "5677/5677 [==============================] - 0s 37us/sample - loss: 0.0000e+00 - accuracy: 1.0000\n",
            "Epoch 14/20\n",
            "5677/5677 [==============================] - 0s 35us/sample - loss: 0.0000e+00 - accuracy: 1.0000\n",
            "Epoch 15/20\n",
            "5677/5677 [==============================] - 0s 39us/sample - loss: 0.0000e+00 - accuracy: 1.0000\n",
            "Epoch 16/20\n",
            "5677/5677 [==============================] - 0s 36us/sample - loss: 0.0000e+00 - accuracy: 1.0000\n",
            "Epoch 17/20\n",
            "5677/5677 [==============================] - 0s 38us/sample - loss: 0.0000e+00 - accuracy: 1.0000\n",
            "Epoch 18/20\n",
            "5677/5677 [==============================] - 0s 36us/sample - loss: 0.0000e+00 - accuracy: 1.0000\n",
            "Epoch 19/20\n",
            "5677/5677 [==============================] - 0s 38us/sample - loss: 0.0000e+00 - accuracy: 1.0000\n",
            "Epoch 20/20\n",
            "5677/5677 [==============================] - 0s 37us/sample - loss: 0.0000e+00 - accuracy: 1.0000\n",
            "2839/1 [==================================================================================================================================================================================================================================================================================================================================================================================================================================================================================================================================================================================================================================================================================================================================================================================================================================================================================================================================================================================================================================================================================================================================================================================================================================================================================================================================================================================================================================================================================================================================================================================================================================================================================================================================================================================================================================================================================================================================================================================================================================================================================================================================================================================================================================================================================================================================================================================================================================================================================================================================================================================================================================================================================================================================================================================================================================================================================================================================================================================================================================================================================================================================================================================================================================================================================================================================================================================================================================================================================================================================================================================================================================================================================================================================================================================================================================================================================================================================================================================================================================================================================================================================================================================================================================================================================================================================================================================================================================================================================================================================================================================================================================================================================================================================================================================================================================================================================================================================================================================================================================================================================================================================================================================================================================================================================================================================================================================================================================================================================================================================================================================================================================================================================================================================================================================================================================================================================================================================================================================================================================================================================================================================================================================================================================================================================================================================================================================================================================================================================================================================================================================================================================================================================================================================================================================================================================================================================================================================================================================================================================================================================================================================================================================================================================================================================================================================================================================================================================================================================================================================================================================================================================================================================================================================================================================================================================================================================================================================================================================================================================================================================================================================================================================================================================================================================================================================================================================================================================================================================================================================================================================================================================================================================================================================================================================================================================================================================================================================================================================================================================================================================================================================================================================================================================================================================================================================================================================================================================================================================================================================================================================================================================================================================================================================================================================================================================================================================================================================================================================================================================================================================================================================================================================================================================================================================================================================================================================================================================================================================================================================================================================================================================================================================================================================================================================================================================================================================================================================================================================================================================================================================================================================================================================================================================================================================================================================================================================================================================================================================================================================================================================================================================================================================================================================================================================================================================================================================================================================================================================================================================================================================================================================================================================================================================================================================================================================================================================================================================================================================================================================================================================================================================================================================================================================================================================================================================================================================================================================================================================================================================================================================================================================================================================================================================================================================================================================================================================================================================================================================================================================================================================================================================================================================================================================================================================================================================================================================================================================================================================================================================================================================================================================================================================================================================================================================================================================================================================================================================================================================================================================================================================================================================================================================================================================================================================================================================================================================================================================================================================================================================================================================================================================================================================================================================================================================================================================================================================================================================================================================================================================================================================================================================================================================================================================================================================================================================================================================================================================================================================================================================================================================================================================================================================================================================================================================================================================================================================================================================================================================================================================================================================================================================================================================================================================================================================================================================================================================================================================================================================================================================================================================================================================================================================================================================================================================================================================================================================================================================================================================================================================================================================================================================================================================================================================================================================================================================================================================================================================================================================================================================================================================================================================================================================================================================================================================================================================================================================================================================================================================================================================================================================================================================================================================================================================================================================================================================================================================================================================================================================================================================================================================================================================================================================================================================================================================================================================================================================================================================================================================================================================================================================================================================================================================================================================================================================================================================================================================================================================================================================================================================================================================================================================================================================================================================================================================================================================================================================================================================================================================================================================================================================================================================================================================================================================================================================================================================================================================================================================================================================================================================================================================================================================================================================================================================================================================================================================================================================================================================================================================================================================================================================================================================================================================================================================================================================================================================================================================================================================================================================================================================================================================================================================================================================================================================================================================================================================================================================================================================================================================================================================================================================================================================================================================================================================================================================================================================================================================================================================================================================================================================================================================================================================================================================================================================================================================================================================================================================================================================================================================================================================================================================================================================================================================================================================================================================================================================================================================================================================================================================================================================================================================================================================================================================================================================================================================================================================================================================================================================================================================================================================================================================================================================================================================================================================================================================================================================================================================================================================================================================================================================================================================================================================================================================================================================================================================================================================================================================================================================================================================================================================================================================================================================================================================================================================================================================================================================================================================================================================================================================================================================================================================================================================================================================================================================================================================================================================================================================================================================================================================================================================================================================================================================================================================================================================================================================================================================================================================================================================================================================================================================================================================================================================================================================================================================================================================================================================================================================================================================================================================================================================================================================================================================================================================================================================================================================================================================================================================================================================================================================================================================================================================================================================================================================================================================================================================================================================================================================================================================================================================================================================================================================================================================================================================================================================================================================================================================================================================================================================================================================================================================================================================================================================================================================================================================================================================================================================================================================================================================================================================================================================================================================================================================================================================================================================================================================================================================================================================================================================================================================================================================================================================================================================================================================================================================================================================================================================================================================================================================================================================================================================================================================================================================================================================================================================================================================================================================================================================================================================================================================================================================================================================================================================================================================================================================================================================================================================================================================================================================================================================================================================================================================================================================================================================================================================================================================================================================================================================================================================================================================================================================================================================================================================================================================================================================================================================================================================================================================================================================================================================================================================================================================================================================================================================================================================================================================================================================================================================================================================================================================================================================================================================================================================================================================================================================================================================================================================================================================================================================================================================================================================================================================================================================================================================================================================================================================================================================================================================================================================================================================================================================================================================================================================================================================================================================================================================================================================================================================================================================================================================================================================================================================================================================================================================================================================================================================================================================================================================================================================================================================================================================================================================================================================================================================================================================================================================================================================================================================================================================================================================================================================================================================================================================================================================================================================================================================================================================================================================================================================================================================================================================================================================================================================================================================================================================================================================================================================================================================================================================================================================================================================================================================================================================================================================================================================================================================================================================================================================================================================================================================================================================================================================================================================================================================================================================================================================================================================================================================================================================================================================================================================================================================================================================================================================================================================================================================================================================================================================================================================================================================================================================================================================================================================================================================================================================================================================================================================================================================================================================================================================================================================================================================================================================================================================================================================================================================================================================================================================================================================================================================================================================================================================================================================================================================================================================================================================================================================================================================================================================================================================================================================================================================================================================================================================================================================================================================================================================================================================================================================================================================================================================================================================================================================================================================================================================================================================================================================================================================================================================================================================================================================================================================================================================================================================================================================================================================================================================================================================================================================================================================================================================================================================================================================================================================================================================================================================================================================================================================================================================================================================================================================================================================================================================================================================================================================================================================================================================================================================================================================================================================================================================================================================================================================================================================================================================================================================================================================================================================================================================================================================================================================================================================================================================================================================================================================================================================================================================================================================================================================================================================================================================================================================================================================================================================================================================================================================================================================================================================================================================================================================================================================================================================================================================================================================================================================================================================================================================================================================================================================================================================================================================================================================================================================================================================================================================================================================================================================================================================================================================================================================================================================================================================================================================================================================================================================================================================================================================================================================================================================================================================================================================================================================================================================================================================================================================================================================================================================================================================================================================================================================================================================================================================================================================================================================================================================================================================================================================================================================================================================================================================================================================================================================================================================================================================================================================================================================================================================================================================================================================================================================================================================================================================================================================================================================================================================================================================================================================================================================================================================================================================================================================================================================================================================================================================================================================================================================================================================================================================================================================================================================================================================================================================================================================================================================================================================================================================================================================================================================================================================================================================================================================================================================================================================================================================================================================================================================================================================================================================================================================================================================================================================================================================================================================================================================================================================================================================================================================================================================================================================================================================================================================================================================================================================================================================================================================================================================================================================================================================================================================================================================================================================================================================================================================================================================================================================================================================================================================================================================================================================================================================================================================================================================================================================================================================================================================================================================================================================================================================================================================================================================================================================================================================================================================================================================================================================================================================================================================================================================================================================================================================================================================================================================================================================================================================================================================================================================================================================================================================================================================================================================================================================================================================================================================================================================================================================================================================================================================================================================================================================================================================================================================================================================================================================================================================================================================================================================================================================================================================================================================================================================================================================================================================================================================================================================================================================================================================================================================================================================================================================================================================================================================================================================================================================================================================================================================================================================================================================================================================================================================================================================================================================================================================================================================================================================================================================================================================================================================================================================================================================================================================================================================================================================================================================================================================================================================================================================================================================================================================================================================================================================================================================================================================================================================================================================================================================================================================================================================================================================================================================================================================================================================================================================================================================================================================================================================================================================================================================================================================================================================================================================================================================================================================================================================================================================================================================================================================================================================================================================================================================================================================================================================================================================================================================================================================================================================================================================================================================================================================================================================================================================================================================================================================================================================================================================================================================================================================================================================================================================================================================================================================================================================================================================================================================================================================================================================================================================================================================================================================================================================================================================================================================================================================================================================================================================================================================================================================================================================================================================================================================================================================================================================================================================================================================================================================================================================================================================================================================================================================================================================================================================================================================================================================================================================================================================================================================================================================================================================================================================================================================================================================================================================================================================================================================================================================================================================================================================================================================================================================================================================================================================================================================================================================================================================================================================================================================================================================================================================================================================================================================================================================================================================================================================================================================================================================================================================================================================================================================================================================================================================================================================================================================================================================================================================================================================================================================================================================================================================================================================================================================================================================================================================================================================================================================================================================================================================================================================================================================================================================================================================================================================================================================================================================================================================================================================================================================================================================================================================================================================================================================================================================================================================================================================================================================================================================================================================================================================================================================================================================================================================================================================================================================================================================================================================================================================================================================================================================================================================================================================================================================================================================================================================================================================================================================================================================================================================================================================================================================================================================================================================================================================================================================================================================================================================================================================================================================================================================================================================================================================================================================================================================================================================================================================================================================================================================================================================================================================================================================================================================================================================================================================================================================================================================================================================================================================================================================================================================================================================================================================================================================================================================================================================================================================================================================================================================================================================================================================================================================================================================================================================================================================================================================================================================================================================================================================================================================================================================================================================================================================================================================================================================================================================================================================================================================================================================================================================================================================================================================================================================================================================================================================================================================================================================================================================================================================================================================================================================================================================================================================================================================================================================================================================================================================================================================================================================================================================================================================================================================================================================================================================================================================================================================================================================================================================================================================================================================================================================================================================================================================================================================================================================================================================================================================================================================================================================================================================================================================================================================================================================================================================================================================================================================================================================================================================================================================================================================================================================================================================================================================================================================================================================================================================================================================================================================================================================================================================================================================================================================================================================================================================================================================================================================================================================================================================================================================================================================================================================================================================================================================================================================================================================================================================================================================================================================================================================================================================================================================================================================================================================================================================================================================================================================================================================================================================================================================================================================================================================================================================================================================================================================================================================================================================================================================================================================================================================================================================================================================================================================================================================================================================================================================================================================================================================================================================================================================================================================================================================================================================================================================================================================================================================================================================================================================================================================================================================================================================================================================================================================================================================================================================================================================================================================================================================================================================================================================================================================================================================================================================================================================================================================================================================================================================================================================================================================================================================================================================================================================================================================================================================================================================================================================================================================================================================================================================================================================================================================================================================================================================================================================================================================================================================================================================================================================================================================================================================================================================================================================================================================================================================================================================================================================================================================================================================================================================================================================================================================================================================================================================================================================================================================================================================================================================================================================================================================================================================================================================================================================================================================================================================================================================================================================================================================================================================================================================================================================================================================================================================================================================================================================================================================================================================================================================================================================================================================================================================================================================================================================================================================================================================================================================================================================================================================================================================================================================================================================================================================================================================================================================================================================================================================================================================================================================================================================================================================================================================================================================================================================================================================================================================================================================================================================================================================================================================================================================================================================================================================================================================================================================================================================================================================================================================================================================================================================================================================================================================================================================================================================================================================================================================================================================================================================================================================================================================================================================================================================================================================================================================================================================================================================================================================================================================================================================================================================================================================================================================================================================================================================================================================================================================================================================================================================================================================================================================================================================================================================================================================================================================================================================================================================================================================================================================================================================================================================================================================================================================================================================================================================================================================================================================================================================================================================================================================================================================================================================================================================================================================================================================================================================================================================================================================================================================================================================================================================================================================================================================================================================================================================================================================================================================================================================================================================================================================================================================================================================================================================================================================================================================================================================================================================================================================================================================================================================================================================================================================================================================================================================================================================================================================================================================================================================================================================================================================================================================================================================================================================================================================================================================================================================================================================================================================================================================================================================================================================================================================================================================================================================================================================================================================================================================================================================================================================================================================================================================================================================================================================================================================================================================================================================================================================================================================================================================================================================================================================================================================================================================================================================================================================================================================================================================================================================================================================================================================================================================================================================================================================================================================================================================================================================================================================================================================================================================================================================================================================================================================================================================================================================================================================================================================================================================================================================================================================================================================================================================================================================================================================================================================================================================================================================================================================================================================================================================================================================================================================================================================================================================================================================================================================================================================================================================================================================================================================================================================================================================================================================================================================================================================================================================================================================================================================================================================================================================================================================================================================================================================================================================================================================================================================================================================================================================================================================================================================================================================================================================================================================================================================================================================================================================================================================================================================================================================================================================================================================================================================================================================================================================================================================================================================================================================================================================================================================================================================================================================================================================================================================================================================================================] - 0s 49us/sample - loss: 0.0000e+00 - accuracy: 1.0000\n",
            "Train on 5677 samples\n",
            "Epoch 1/20\n",
            "5677/5677 [==============================] - 0s 39us/sample - loss: 0.0000e+00 - accuracy: 1.0000\n",
            "Epoch 2/20\n",
            "5677/5677 [==============================] - 0s 34us/sample - loss: 0.0000e+00 - accuracy: 1.0000\n",
            "Epoch 3/20\n",
            "5677/5677 [==============================] - 0s 36us/sample - loss: 0.0000e+00 - accuracy: 1.0000\n",
            "Epoch 4/20\n",
            "5677/5677 [==============================] - 0s 42us/sample - loss: 0.0000e+00 - accuracy: 1.0000\n",
            "Epoch 5/20\n",
            "5677/5677 [==============================] - 0s 39us/sample - loss: 0.0000e+00 - accuracy: 1.0000\n",
            "Epoch 6/20\n",
            "5677/5677 [==============================] - 0s 36us/sample - loss: 0.0000e+00 - accuracy: 1.0000\n",
            "Epoch 7/20\n",
            "5677/5677 [==============================] - 0s 35us/sample - loss: 0.0000e+00 - accuracy: 1.0000\n",
            "Epoch 8/20\n",
            "5677/5677 [==============================] - 0s 36us/sample - loss: 0.0000e+00 - accuracy: 1.0000\n",
            "Epoch 9/20\n",
            "5677/5677 [==============================] - 0s 36us/sample - loss: 0.0000e+00 - accuracy: 1.0000\n",
            "Epoch 10/20\n",
            "5677/5677 [==============================] - 0s 33us/sample - loss: 0.0000e+00 - accuracy: 1.0000\n",
            "Epoch 11/20\n",
            "5677/5677 [==============================] - 0s 35us/sample - loss: 0.0000e+00 - accuracy: 1.0000\n",
            "Epoch 12/20\n",
            "5677/5677 [==============================] - 0s 34us/sample - loss: 0.0000e+00 - accuracy: 1.0000\n",
            "Epoch 13/20\n",
            "5677/5677 [==============================] - 0s 34us/sample - loss: 0.0000e+00 - accuracy: 1.0000\n",
            "Epoch 14/20\n",
            "5677/5677 [==============================] - 0s 34us/sample - loss: 0.0000e+00 - accuracy: 1.0000\n",
            "Epoch 15/20\n",
            "5677/5677 [==============================] - 0s 35us/sample - loss: 0.0000e+00 - accuracy: 1.0000\n",
            "Epoch 16/20\n",
            "5677/5677 [==============================] - 0s 34us/sample - loss: 0.0000e+00 - accuracy: 1.0000\n",
            "Epoch 17/20\n",
            "5677/5677 [==============================] - 0s 35us/sample - loss: 0.0000e+00 - accuracy: 1.0000\n",
            "Epoch 18/20\n",
            "5677/5677 [==============================] - 0s 37us/sample - loss: 0.0000e+00 - accuracy: 1.0000\n",
            "Epoch 19/20\n",
            "5677/5677 [==============================] - 0s 35us/sample - loss: 0.0000e+00 - accuracy: 1.0000\n",
            "Epoch 20/20\n",
            "5677/5677 [==============================] - 0s 36us/sample - loss: 0.0000e+00 - accuracy: 1.0000\n",
            "2839/1 [==================================================================================================================================================================================================================================================================================================================================================================================================================================================================================================================================================================================================================================================================================================================================================================================================================================================================================================================================================================================================================================================================================================================================================================================================================================================================================================================================================================================================================================================================================================================================================================================================================================================================================================================================================================================================================================================================================================================================================================================================================================================================================================================================================================================================================================================================================================================================================================================================================================================================================================================================================================================================================================================================================================================================================================================================================================================================================================================================================================================================================================================================================================================================================================================================================================================================================================================================================================================================================================================================================================================================================================================================================================================================================================================================================================================================================================================================================================================================================================================================================================================================================================================================================================================================================================================================================================================================================================================================================================================================================================================================================================================================================================================================================================================================================================================================================================================================================================================================================================================================================================================================================================================================================================================================================================================================================================================================================================================================================================================================================================================================================================================================================================================================================================================================================================================================================================================================================================================================================================================================================================================================================================================================================================================================================================================================================================================================================================================================================================================================================================================================================================================================================================================================================================================================================================================================================================================================================================================================================================================================================================================================================================================================================================================================================================================================================================================================================================================================================================================================================================================================================================================================================================================================================================================================================================================================================================================================================================================================================================================================================================================================================================================================================================================================================================================================================================================================================================================================================================================================================================================================================================================================================================================================================================================================================================================================================================================================================================================================================================================================================================================================================================================================================================================================================================================================================================================================================================================================================================================================================================================================================================================================================================================================================================================================================================================================================================================================================================================================================================================================================================================================================================================================================================================================================================================================================================================================================================================================================================================================================================================================================================================================================================================================================================================================================================================================================================================================================================================================================================================================================================================================================================================================================================================================================================================================================================================================================================================================================================================================================================================================================================================================================================================================================================================================================================================================================================================================================================================================================================================================================================================================================================================================================================================================================================================================================================================================================================================================================================================================================================================================================================================================================================================================================================================================================================================================================================================================================================================================================================================================================================================================================================================================================================================================================================================================================================================================================================================================================================================================================================================================================================================================================================================================================================================================================================================================================================================================================================================================================================================================================================================================================================================================================================================================================================================================================================================================================================================================================================================================================================================================================================================================================================================================================================================================================================================================================================================================================================================================================================================================================================================================================================================================================================================================================================================================================================================================================================================================================================================================================================================================================================================================================================================================================================================================================================================================================================================================================================================================================================================================================================================================================================================================================================================================================================================================================================================================================================================================================================================================================================================================================================================================================================================================================================================================================================================================================================================================================================================================================================================================================================================================================================================================================================================================================================================================================================================================================================================================================================================================================================================================================================================================================================================================================================================================================================================================================================================================================================================================================================================================================================================================================================================================================================================================================================================================================================================================================================================================================================================================================================================================================================================================================================================================================================================================================================================================================================================================================================================================================================================================================================================================================================================================================================================================================================================================================================================================================================================================================================================================================================================================================================================================================================================================================================================================================================================================================================================================================================================================================================================================================================================================================================================================================================================================================================================================================================================================================================================================================================================================================================================================================================================================================================================================================================================================================================================================================================================================================================================================================================================================================================================================================================================================================================================================================================================================================================================================================================================================================================================================================================================================================================================================================================================================================================================================================================================================================================================================================================================================================================================================================================================================================================================================================================================================================================================================================================================================================================================================================================================================================================================================================================================================================================================================================================================================================================================================================================================================================================================================================================================================================================================================================================================================================================================================================================================================================================================================================================================================================================================================================================================================================================================================================================================================================================================================================================================================================================================================================================================================================================================================================================================================================================================================================================================================================================================================================================================================================================================================================================================================================================================================================================================================================================================================================================================================================================================================================================================================================================================================================================================================================================================================================================================================================================================================================================================================================================================================================================================================================================================================================================================================================================================================================================================================================================================================================================================================================================================================================================================================================================================================================================================================================================================================================================================================================================================================================================================================================================================================================================================================================================================================================================================================================================================================================================================================================================================================================================================================================================================================================================================================================================================================================================================================================================================================================================================================================================================================================================================================================================================================================================================================================================================================================================================================================================================================================================================================================================================================================================================================================================================================================================================================================================================================================================================================================================================================================================================================================================================================================================================================================================================================================================================================================================================================================================================================================================================================================================================================================================================================================================================================================================================================================================================================================================================================================================================================================================================================================================================================================================================================================================================================================================================================================================================================================================================================================================================================================================================================================================================================================================================================================================================================================================================================================================================================================================================================================================================================================================================================================================================================================================================================================================================================================================================================================================================================================================================================================================================================================================================================================================================================================================================================================================================================================================================================================================================================================================================================================================================================================================================================================================================================================================================================================================================================================================================================================================================================================================================================================================================================================================================================================================================================================================================================================================================================================================================================================================================================================================================================================================================================================================================================================================================================================================================================================================================================================================================================================================================================================================================================================================================================================================================================================================================================================================================================================================================================================================================================================================================================================================================================================================================================================================================================================================================================================================================================================================================================================================================================================================================================================================================================================================================================================================================================================================================================================================================================================================================================================================================================================================================================================================================================================================================================================================================================================================================================================================================================================================================================================================================================================================================================================================================================================================================================================================================================================================================================================================================================================================================================================================================================================================================================================================================================================================================================================================================================================================================================================================================================================================================================================================================================================================================================================================================================================================================================================================================================================================================================================================================================================================================================================================================================================================================================================================================================================================================================================================================================================================================================================================================================================================================================================================================================================================================================================================================================================================================================================================================================================================================================================================================================================================================================================================================================================================================================================================================================================================================================================================================================================================================================================================================================================================================================================================================================================================================================================================================================================================================================================================================================================================================================================================================================================================================================================================================================================================================================================================================================================================================================================================================================================================================================================================================================================================================================================================================================================================================================================================================================================================================================================================================================================================================================================================================================================================================================================================================================================================================================================================================================================================================================================================================================================================================================================================================================================================================================================================================================================================================================================================================================================================================================================================================================================================================================================================================================================================================================================================================================================================================================================================================================================================================================================================================================================================================================================================================================================================================================================================================================================================================================================================================================================================================================================================================================================================================================================================================================================================================================================================================================================================================================================================================================================================================================================================================================================================================================================================================================================================================================================================================================================================================================================================================================================================================================================================================================================================================================================================================================================================================================================================================================================================================================================================================================================================================================================================================================================================================================================================================================================================================================================================================================================================================================================================================================================================================================================================================================================================================================================================================================================================================================================================================================================================================================================================================================================================================================================================================================================================================================================================================================================================================================================================================================================================================================================================================================================================================================================================================================================================================================================================================================================================================================================================================================================================================================================================================================================================================================================================================================================================================================================================================================================================================================================================================================================================================================================================================================================================================================================================================================================================================================================================================================================================================================================================================================================================================================================================================================================================================================================================================================================================================================================================================================================================================================================================================================================================================================================================================================================================================================================================================================================================================================================================================================================================================================================================================================================================================================================================================================================================================================================================================================================================================================================================================================================================================================================================================================================================================================================================================================================================================================================================================================================================================================================================================================================================================================================================================================================================================================================================================================================================================================================================================================================================================================================================================================================================================================================================================================================================================================================================================================================================================================================================================================================================================================================================================================================================================================================================================================================================================================================================================================================================================================================================================================================================================================================================================================================================================================================================================================================================================================================================================================================================================================================================================================================================================================================================================================================================================================================================================================================================================================================================================================================================================================================================================================================================================================================================================================================================================================================================================================================================================================================================================================================================================================================================================================================================================================================================================================================================================================================================================================================================================================================================================================================================================================================================================================================================================================================================================================================================================================================================================================================================================================================================================================================================================================================================================================================================================================================================================================================================================================================================================================================================================================================================================================================================================================================================================================================================================================================================================================================================================================================================================================================================================================================================================================================================================================================================================================================================================================================================================================================================================================================================================================================================================================================================================================================================================================================================================================================================================================================================================================================================================================================================================================================================================================================================================================================================================================================================================================================================================================================================================================================================================================================================================================================================================================================================================================================================================================================================================================================================================================================================================================================================================================================================================================================================================================================================================================================================================================================================================================================================================================================================================================================================================================================================================================================================================================================================================================================================================================================================================================================================================================================================================================================================================================================================================================================================================================================================================================================================================================================================================================================================================================================================================================================================================================================================================================================================================================================================================================================================================================================================================================================================================================================================================================================================================================================================================================================================================================================================================================================================================================================================================================================================================================================================================================================================================================================================================================================================================================================================================================================================================================================================================================================================================================================================================================================================================================================================================================================================================================================================================================================================================================================================================================================================================================================================================================================================================================================================================================================================================================================================================================================================================================================================================================================================================================================================================================================================================================================================================================================================================================================================================================================================================================================================================================================================================================================================================================================================================================================================================================================================================================================================================================================================================================================================================================================================================================================================================================================================================================================================================================================================================================================================================================================================================================================================================================================================================================================================================================================================================================================================================================================================================================================================================================================================================================================================================================================================================================================================================================================================================================================================================================================================================================================================================================================================================================================================================================================================================================================================================================================================================================================================================================================================================================================================================================================================================================================================================================================================================================================================================================================================================================================================================================================================================================================================================================================================================================================================================================================================================================================================================================================================================================================================================================================================================================================================================================================================================================================================================================================================================================================================================================================================================================================================================================================================================================================================================================================================================================================================================================================================================================================================================================================================================================================================================================================================================================================================================================================================================================================================================================================================================================================================================================================================================================================================================================================================================================================================================================================================================================================================================================================================================================================================================================================================================================================================================================================================================================================================================================================================================================================================================================================================================================================================================================================================================================================================================================================================================================================================================================================================================================================================================================================================================================================================================================================================================================================================================================================================================================================================================================================================================================================================================================================================================================================================================================================================================================================================================================================================================================================================================================================================================================================================================================================================================================================================================================================================================================================================================================================================================================================================================================================================================================================================================================================================================================================================================================================================================================================================================================================================================================================================================================================================================================================================================================================================================================================================================================================================================================================================================================================================================================================================================================================================================================================================================================================================================================================================================================================================================================================================================================================================================================================================================================================================================================================================================================================================================================================================================================================================================================================================================================================================================================================================================================================================================================================================================================================================================================================================================================================================================================================================================================================================================================================================================================================================================================================================================================================================================================================================================================================================================================================================================================================================================================================================================================================================================================================================================================================================================================================================================================================================================================================================================================================================================================================================================================================================================================================================================================================================================================================================================================================================================================================================================================================================================================================================================================================================================================================================================================================================================================================================================================================================================================================================================================================================================================================================================================================================================================================================================================================================================================================================================================================================================================================================================================================================================================================================================================================================================================================================================================================================================================================================================================================================================================================================================================================================================================================================================================================================================================================================================================================================================================================================================================================================================================================================================================================================================================================================================================================================================================================================================================================================================================================================================================================================================================================================================================================================================================================================================================================================================================================================================================================================================================================================================================================================================================================================================================================================================================================================================================================================================================================================================================================================================================================================================================================================================================================================================================================================================================================================================================================================================================================================================================================================================================================================================================================================================================================================================================================================================================================================================================================================================================================================================================================================================================================================================================================================================================================================================================================================================================================================================================================================================================================================================================================================================================================================================================================================================================================================================================================================================================================================================================================================================================================================================================================================================================================================================================================================================================================================================================================================================================================================================================================================================================================================================================================================================================================================================================================================================================================================================================================================================================================================================================================================================================================================================================================================================================================================================================================================================================================================================================================================================================================================================================================================================================================================================================================================================================================================================================================================================================================================================================================================================================================================================================================================================================================================================================================================================================================================================================================================================================================================================================================================================================================================================================================================================================================================================================================================================================================================================================================================================================================================================================================================================================================================================================================================================================================================================================================================================================================================================================================================================================================================================================================================================================================================================================================================================================================================================================================================================================================================================================================================================================================================================================================================================================================================================================================================================================================================================================================================================================================================================================================================================================================================================================================================================================================================================================================================================================================================================================================================================================================================================================================================================================================================================================================================================================================================================================================================================================================================================================================================================================================================================================================================================================================================================================================================================================================================================================================================================================================================================================================================================================================================================================================================================================================================================================================================================================================================================================================================================================================================================================================================================================================================================================================================================================================================================================================================================================================================================================================================================================================================================================================================================================================================================================================================================================================================================================================================================================================================================================================================================================================================================================================================================================================================================================================================================================================================================================================================================================================================================================================================================================================================================================================================================================================================================================================================================================================================================================================================================================================================================================================================================================================================================================================================================================================================================================================================================================================================================================================================================================================================================================================================================================================================================================================================================================================================================================================================================================================================================================================================================================================================================================================================================================================================================================================================================================================================================================================================================================================================================================================================================================================================================================================================================================================================================================================================================================================================================================================================================================================================================================================================================================================================================================================================================================================================================================================================================================================================================================================================================================================================================================================================================================================================================================================================================================================================================================================================================================================================================================================================================] - 0s 9us/sample - loss: 0.0000e+00 - accuracy: 1.0000\n",
            "Train on 5678 samples\n",
            "Epoch 1/20\n",
            "5678/5678 [==============================] - 0s 37us/sample - loss: 0.0000e+00 - accuracy: 1.0000\n",
            "Epoch 2/20\n",
            "5678/5678 [==============================] - 0s 35us/sample - loss: 0.0000e+00 - accuracy: 1.0000\n",
            "Epoch 3/20\n",
            "5678/5678 [==============================] - 0s 34us/sample - loss: 0.0000e+00 - accuracy: 1.0000\n",
            "Epoch 4/20\n",
            "5678/5678 [==============================] - 0s 34us/sample - loss: 0.0000e+00 - accuracy: 1.0000\n",
            "Epoch 5/20\n",
            "5678/5678 [==============================] - 0s 36us/sample - loss: 0.0000e+00 - accuracy: 1.0000\n",
            "Epoch 6/20\n",
            "5678/5678 [==============================] - 0s 34us/sample - loss: 0.0000e+00 - accuracy: 1.0000\n",
            "Epoch 7/20\n",
            "5678/5678 [==============================] - 0s 34us/sample - loss: 0.0000e+00 - accuracy: 1.0000\n",
            "Epoch 8/20\n",
            "5678/5678 [==============================] - 0s 33us/sample - loss: 0.0000e+00 - accuracy: 1.0000\n",
            "Epoch 9/20\n",
            "5678/5678 [==============================] - 0s 35us/sample - loss: 0.0000e+00 - accuracy: 1.0000\n",
            "Epoch 10/20\n",
            "5678/5678 [==============================] - 0s 36us/sample - loss: 0.0000e+00 - accuracy: 1.0000\n",
            "Epoch 11/20\n",
            "5678/5678 [==============================] - 0s 36us/sample - loss: 0.0000e+00 - accuracy: 1.0000\n",
            "Epoch 12/20\n",
            "5678/5678 [==============================] - 0s 35us/sample - loss: 0.0000e+00 - accuracy: 1.0000\n",
            "Epoch 13/20\n",
            "5678/5678 [==============================] - 0s 34us/sample - loss: 0.0000e+00 - accuracy: 1.0000\n",
            "Epoch 14/20\n",
            "5678/5678 [==============================] - 0s 35us/sample - loss: 0.0000e+00 - accuracy: 1.0000\n",
            "Epoch 15/20\n",
            "5678/5678 [==============================] - 0s 35us/sample - loss: 0.0000e+00 - accuracy: 1.0000\n",
            "Epoch 16/20\n",
            "5678/5678 [==============================] - 0s 36us/sample - loss: 0.0000e+00 - accuracy: 1.0000\n",
            "Epoch 17/20\n",
            "5678/5678 [==============================] - 0s 35us/sample - loss: 0.0000e+00 - accuracy: 1.0000\n",
            "Epoch 18/20\n",
            "5678/5678 [==============================] - 0s 33us/sample - loss: 0.0000e+00 - accuracy: 1.0000\n",
            "Epoch 19/20\n",
            "5678/5678 [==============================] - 0s 34us/sample - loss: 0.0000e+00 - accuracy: 1.0000\n",
            "Epoch 20/20\n",
            "5678/5678 [==============================] - 0s 35us/sample - loss: 0.0000e+00 - accuracy: 1.0000\n",
            "2838/1 [====================================================================================================================================================================================================================================================================================================================================================================================================================================================================================================================================================================================================================================================================================================================================================================================================================================================================================================================================================================================================================================================================================================================================================================================================================================================================================================================================================================================================================================================================================================================================================================================================================================================================================================================================================================================================================================================================================================================================================================================================================================================================================================================================================================================================================================================================================================================================================================================================================================================================================================================================================================================================================================================================================================================================================================================================================================================================================================================================================================================================================================================================================================================================================================================================================================================================================================================================================================================================================================================================================================================================================================================================================================================================================================================================================================================================================================================================================================================================================================================================================================================================================================================================================================================================================================================================================================================================================================================================================================================================================================================================================================================================================================================================================================================================================================================================================================================================================================================================================================================================================================================================================================================================================================================================================================================================================================================================================================================================================================================================================================================================================================================================================================================================================================================================================================================================================================================================================================================================================================================================================================================================================================================================================================================================================================================================================================================================================================================================================================================================================================================================================================================================================================================================================================================================================================================================================================================================================================================================================================================================================================================================================================================================================================================================================================================================================================================================================================================================================================================================================================================================================================================================================================================================================================================================================================================================================================================================================================================================================================================================================================================================================================================================================================================================================================================================================================================================================================================================================================================================================================================================================================================================================================================================================================================================================================================================================================================================================================================================================================================================================================================================================================================================================================================================================================================================================================================================================================================================================================================================================================================================================================================================================================================================================================================================================================================================================================================================================================================================================================================================================================================================================================================================================================================================================================================================================================================================================================================================================================================================================================================================================================================================================================================================================================================================================================================================================================================================================================================================================================================================================================================================================================================================================================================================================================================================================================================================================================================================================================================================================================================================================================================================================================================================================================================================================================================================================================================================================================================================================================================================================================================================================================================================================================================================================================================================================================================================================================================================================================================================================================================================================================================================================================================================================================================================================================================================================================================================================================================================================================================================================================================================================================================================================================================================================================================================================================================================================================================================================================================================================================================================================================================================================================================================================================================================================================================================================================================================================================================================================================================================================================================================================================================================================================================================================================================================================================================================================================================================================================================================================================================================================================================================================================================================================================================================================================================================================================================================================================================================================================================================================================================================================================================================================================================================================================================================================================================================================================================================================================================================================================================================================================================================================================================================================================================================================================================================================================================================================================================================================================================================================================================================================================================================================================================================================================================================================================================================================================================================================================================================================================================================================================================================================================================================================================================================================================================================================================================================================================================================================================================================================================================================================================================================================================================================================================================================================================================================================================================================================================================================================================================================================================================================================================================================================================================================================================================================================================================================================================================================================================================================================================================================================================================================================================================================================================================================================================================================================================================================================================================================================================================================================================================================================================================================================================================================================================================================================================================================================================================================================================================================================================================================================================================================================================================================================================================================================================================================================================================================================================================================================================================================================================================================================================================================================================================================================================================================================================================================================================================================================================================================================================================================================================================================================================================================================================================================================================================================================================================================================================================================================================================================================================================================================================================================================================================================================================================================================================================================================================================================================================================================================================================================================================================================================================================================================================================================================================================================================================================================================================================================================================================================================================================================================================================================================================================================================================================================================================================================================================================================================================================================================================================================================================================================================================================================================================================================================================================================================================================================================================================================================================================================================================================================================================================================================================================================================================================================================================================================================================================================================================================================================================================================================================================================================================================================================================================================================================================================================================================================================================================================================================================================================================================================================================================================================================================================================================================================================================================================================================================================================================================================================================================================================================================================================================================================================================================================================================================================================================================================================================================================================================================================================================================================================================================================================================================================================================================================================================================================================================================================================================================================================================================================================================================================================================================================================================================================================================================================================================================================================================================================================================================================================================================================================================================================================================================================================================================================================================================================================================================================================================================================================================================================================================================================================================================================================================================================================================================================================================================================================================================================================================================================================================================================================================================================================================================================================================================================================================================================================================================================================================================================================================================================================================================================================================================================================================================================================================================================================================================================================================================================================================================================================================================================================================================================================================================================================================================================================================================================================================================================================================================================================================================================================================================================================================================================================================================================================================================================================================================================================================================================================================================================================================================================================================================================================================================================================================================================================================================================================================================================================================================================================================================================================================================================================================================================================================================================================================================================================================================================================================================================================================================================================================================================================================================================================================================================================================================================================================================================================================================================================================================================================================================================================================================================================================================================================================================================================================================================================================================================================================================================================================================================================================================================================================================================================================================================================================================================================================================================================================================================================================================================================================================================================================================================================================================================================================================================================================================================================================================================================================================================================================================================================================================================================================================================================================================================================================================================================================================================================================================================================================================================================================================================================================================================================================================================================================================================================================================================================================================================================================================================================================================================================================================================================================================================================================================================================================================================================================================================================================================================================================================================================================================================================================================================================================================================================================================================================================================================================================================================================================================================================================================================================================================================================================================================================================================================================================================================================================================================================================================================================================================================================================================================================================================================================================================================================================================================================================================================================================================================================================================================================================================================================================================================================================================================================================================================================================================================================================================================================================================================================================================================================================================================================================================================================================================================================================================================================================================================================================================================================================================================================================================================================================================================================================================================================================================================================================================================================================================================================================================================================================================================================================================================================================================================================================================================================================================================================================================================================================================================================================================================================================================================================================================================================================================================================================================================================================================================================================================================================================================================================================================================================================================================================================================================================================================================================================================================================================================================================================================================================================================================================================================================================================================================================================================================================================================================================================================================================================================================================================================================================================================================================================================================================================================================================================================================================================================================================================================================================================================================================================================================================================================================================================================================================================================================================================================================================================================================================================================================================================================================================================================================================================================================================================================================================================================================================================================================================================================================================================================================================================================================================================================================================================================================================================================================================================================================================================================================================================================================================================================================================================================================================================================================================================================================================================================================================================================================================================================================================================================================================================================================================================================================================================================================================================================================================================================================================================================================================================================================================================================================================================================================================================================================================================================================================================================================================================================================================================================================================================================================================================================================================================================================================================================================================================================================================================================================================================================================================================================================================================================================================================================================================================================================================================================================================================================================================================================================================================================================================================================================================================================================================================================================================================================================================================================================================================================================================================================================================================================================================================================================================================================================================================================================================================================================================================================================================================================================================================================================================================================================================================================================================================================================================================================================================================================================================================================================================================================================================================================================================================================================================================================================================================================================================================================================================================================================================================================================================================================================================================================================================================================================================================================================================================================================================================================================================================================================================================================================================================================================================================================================================================================================================================================================================================================================================================================================================================================================================================================================================================================================================================================================================================================================================================================================================================================================================================================================================================================================================================================================================================================================================================================================================================================================================================================================================================================================================================================================================================================================================================================================================================================================================================================================================================================================================================================================================================================================================================================================================================================================================================================================================================================================================================================================================================================================================================================================================================================================================================================================================================================================================================================================================================================================================================================================================================================================================================================================================================================================================================================================================================================================================================================================================================================================================================================================================================================================================================================================================================================================================================================================================================================================================================================================================================================================================================================================================================================================================================================================================================================================================================================================================================================================================================================================================================================================================================================================================================================================================================================================================================================================================================================================================================================================================================================================================================================================================================================================================================================================================================================================================================================================================================================================================================================================================================================================================================================================================================================================================================================================================================================================================================================================================================================================================================================================================================================================================================================================================================================================================================================================================================================================================================================================================================================================================================================================================================================================================================================================================================================================================================================================================================================================================================================================================================================================================================================================================================================================================================================================================================================================================================================================================================================================================================================================================================================================================================================================================================================================================================================================================================================================================================================================================================================================================================================================================================================================================================================================================================================================================================================================================================================================================================================================================================================================================================================================================================================================================================================================================================================================================================================================================================================================================================================================================================================================================================================================================================================================================================================================================================================================================================================================================================================================================================================================================================================================================================================================================================================================================================================================================================================================================================================================================================================================================================================================================================================================================================================================================================================================================================================================================================================================================================================================================================================================================================================================================================================================================================================================================================================================================================================================================================================================================================================================================================================================================================================================================================================================================================================================================================================================================================================================================================================================================================================================================================================================================================================================================================================================================================================================================================================================================================================================================================================================================================================================================================================================================================================================================================================================================================================================================================================================================================================================================================================================================================================================================================================================================================================================================================================================================================================================================================================================================================================================================================================================================================================================================================================================================================================================================================================================================================================================================================================================================================================================================================================================================================================================================================================================================================================================================================================================================================================================================================================================================================================================================================================================================================================================================================================================================================================================================================================================================================================================================================================================================================================================================================================================================================================================================================================================================================================================================================================================================================================================================================================================================================================================================================================================================================================================================================================================================================================================================================================================================================================================================================================================================================================================================================================================================================================================================================================================================================================================================================================================================================================================================================================================================================================================================================================================================================================================================================================================================================================================================================================================================================================================================================================================================================================================================================================================================================================================================================================================================================================================================================================================================================================================================================================================================================================================================================================================================================================================================================================================================================================================================================================================================================================================================================================================================================================================================================================================================================================================================================================================================================================================================================================================================================================================================================================================================================================================================================================================================================================================================================================================================================================================================================================================================================================================================================================================================================================================================================================================================================================================================================================================================================================================================================================================================================================================================================================================================================================================================================================================================================================================================================================================================================================================================================================================================================================================================================================================================================================================================================================================================================================================================================================================================================================================================================================================================================================================================================================================================================================================================================================================================================================================================================================================================================================================================================================================================================================================================================================================================================================================================================================================================================================================================================================================================================================================================================================================================================================================================================================================================================================================================================================================================================================================================================================================================================================================================================================================================================================================================================================================================================================================================================================================================================================================================================================================================================================================================================================================================================================================================================================================================================================================================================================================================================================================================================================================================================================================================================================================================================================================================================================================================================================================================================================================================================================================================================================================================================================================================================================================================================================================================================================================================================================================================================================================================================================================================================================================================================================================================================================================================================================================================================================================================================================================================================================================================================================================================================================================================================================================================================================================================================================================================================================================================================================================================================================================================================================================================================================================================================================================================================================================================================================================================================================================================================================================================================================================================================================================================================================================================================================================================================================================================================================================================================================================================================================================================================================================================================================================================================================================================================================================================================================================================================================================================================================================================================================================================================================================================================================================================================================================================================================================================================================================================================================================================================================================================================================================================================================================================================================================================================================================================================================================================================================================================================================================================================================================================================================================================================================================================================================================================================================================================================================================================================================================================================================================================================================================================================================================================================================================================================================================================================================================================================================================================================================================================================================================================================================================================================================================================================================================================================================================================================================================================================================================================================================================================================================================================================================================================================================================================================================================================================================================================================================================================================================================================================================================================================================================================================================================================================================================================================================================================================================================================================================================================================================================================================================================================================================================================================================================================================================================================================================================================================================================================================================================================================================================================================================================================================================================================================================================================================================================================================================================================================================================================================================================================================================================================================================================================================================================================================================================================================================================================================================================================================================================================================================================================================================================================================================================================================================================================================================================================================================================================================================================================================================================================================================================================================================================================================================================================================================================================================================================================================================================================================================================================================================================================================================================================================================================================================================================================================================================================================================================================================================================================================================================================================================================================================================================================================================================================================================================================================================================================================================================================================================================================================================================================================================================================================================================================================================================================================================================================================================================================================================================================================================================================================================================================================================================================================================================================================================================================================================================================================================================================================================================================================================================================================================================================================================================================================================================================================================================================================================================================================================================================================================================================================================================================================================================================================================================================================================================================================================================================================================================================================================================================================================================================================================================================================================================================================================================================================================================================================================================================================================================================================================================================================================================================================================================================================================================================================================================================================================================================================================================================================================================================================================================================================================================================================================================================================================================================================================================================================================================================================================================================================================================================================================================================================================================================================================================================================================================================================================================================================================================================================================================================================================================================================================================================================================================================================================================================================================================================================================================================================================================================================================================================================================================================================================================================================================================================================================================================================================================================================================================================================================================================================================================================================================================================================================================================================================================================================================================================================================================================================================================================================================================================================================================================================================================================================================================================================================================================================================================================================================================================================================================================================================================================================================================================================================================================================================================================================================================================================================================================================================================================================================================================================================================================================================================================================================================================================================================================================================================================================================================================================================================================================================================================================================================================================================================================================================================================================================================================================================================================================================================================================================================================================================================================================================================================================================================================================================================================================================================================================================================================================================================================================================================================================================================================================================================================================================================================================================================================================================================================================================================================================================================================================================================================================================================================================================================================================================================================================================================================================================================================================================================================================================================================================================================================================================================================================================================================================================================================================================================================================================================================================================================================================================================================================================================================================================================================================================================================================================================================================================================================================================================================================================================================================================================================================================================================================================================================================================================================================================================================================================================================================================================================================================================================================================================================================================================================================================================================================================================================] - 0s 11us/sample - loss: 0.0000e+00 - accuracy: 1.0000\n"
          ],
          "name": "stdout"
        }
      ]
    },
    {
      "cell_type": "code",
      "metadata": {
        "id": "hCkXLMxnyyIl",
        "colab": {
          "base_uri": "https://localhost:8080/",
          "height": 234
        },
        "outputId": "5f57fbb1-9810-4344-96ef-4e5ab090f88e"
      },
      "source": [
        "def calMovingAverage(data,error):\n",
        "  temp = []\n",
        "  for i in range(1,len(data)):\n",
        "    temp.append(np.sum(data[0:i])/i)\n",
        "  plt.plot(temp)\n",
        "  plt.xlabel(\"#Iterations\")\n",
        "  plt.ylabel(\"values/errors\")\n",
        "  if (error):\n",
        "    plt.legend(\"error\")\n",
        "  else:\n",
        "    plt.legend(\"validation\")\n",
        "  return np.array(temp)\n",
        "\n",
        "#graph of non pca\n",
        "calMovingAverage(non_pca_error,True)#error\n",
        "calMovingAverage(non_pca_acc,False)#acc"
      ],
      "execution_count": null,
      "outputs": [
        {
          "output_type": "error",
          "ename": "NameError",
          "evalue": "ignored",
          "traceback": [
            "\u001b[0;31m---------------------------------------------------------------------------\u001b[0m",
            "\u001b[0;31mNameError\u001b[0m                                 Traceback (most recent call last)",
            "\u001b[0;32m<ipython-input-265-e96f7cb3e972>\u001b[0m in \u001b[0;36m<module>\u001b[0;34m()\u001b[0m\n\u001b[1;32m     13\u001b[0m \u001b[0;34m\u001b[0m\u001b[0m\n\u001b[1;32m     14\u001b[0m \u001b[0;31m#graph of non pca\u001b[0m\u001b[0;34m\u001b[0m\u001b[0;34m\u001b[0m\u001b[0;34m\u001b[0m\u001b[0m\n\u001b[0;32m---> 15\u001b[0;31m \u001b[0mcalMovingAverage\u001b[0m\u001b[0;34m(\u001b[0m\u001b[0mnon_pca_error\u001b[0m\u001b[0;34m,\u001b[0m\u001b[0;32mTrue\u001b[0m\u001b[0;34m)\u001b[0m\u001b[0;31m#error\u001b[0m\u001b[0;34m\u001b[0m\u001b[0;34m\u001b[0m\u001b[0m\n\u001b[0m\u001b[1;32m     16\u001b[0m \u001b[0mcalMovingAverage\u001b[0m\u001b[0;34m(\u001b[0m\u001b[0mnon_pca_acc\u001b[0m\u001b[0;34m,\u001b[0m\u001b[0;32mFalse\u001b[0m\u001b[0;34m)\u001b[0m\u001b[0;31m#acc\u001b[0m\u001b[0;34m\u001b[0m\u001b[0;34m\u001b[0m\u001b[0m\n",
            "\u001b[0;31mNameError\u001b[0m: name 'non_pca_error' is not defined"
          ]
        }
      ]
    },
    {
      "cell_type": "code",
      "metadata": {
        "id": "hKbaCI2I1taH",
        "colab": {
          "base_uri": "https://localhost:8080/",
          "height": 304
        },
        "outputId": "ce57539b-5b59-42cc-fe5a-0336f4e914eb"
      },
      "source": [
        "#graph of  pca:\n",
        "calMovingAverage(non_pca_error,True)#error\n",
        "calMovingAverage(non_pca_acc,False)#acc"
      ],
      "execution_count": null,
      "outputs": [
        {
          "output_type": "execute_result",
          "data": {
            "text/plain": [
              "array([0.69390631, 0.7129271 ])"
            ]
          },
          "metadata": {
            "tags": []
          },
          "execution_count": 94
        },
        {
          "output_type": "display_data",
          "data": {
            "image/png": "[encoded data removed]",
            "text/plain": [
              "<Figure size 432x288 with 1 Axes>"
            ]
          },
          "metadata": {
            "tags": []
          }
        }
      ]
    }
  ]
}